{
 "cells": [
  {
   "cell_type": "markdown",
   "metadata": {},
   "source": [
    "---\n",
    "# this is YAML front matter\n",
    "layout: post\n",
    "title: Calculator\n",
    "description: This is the code that translates the expression to a result.\n",
    "---"
   ]
  },
  {
   "cell_type": "markdown",
   "metadata": {},
   "source": [
    "### This is a draft for the program that evaluates the string given by the computer vision and outputs an expression"
   ]
  },
  {
   "cell_type": "code",
   "execution_count": 1,
   "metadata": {},
   "outputs": [
    {
     "name": "stdout",
     "output_type": "stream",
     "text": [
      "19\n",
      "17\n",
      "32\n",
      "4\n"
     ]
    }
   ],
   "source": [
    "def getOrder(oper):\n",
    "    if oper == '+' or oper == '-':\n",
    "        return 1\n",
    "    if oper == '*' or oper == '/':\n",
    "        return 2\n",
    "    return 0\n",
    "\n",
    "def applyOp(a, b, oper):\n",
    "    if oper == '+': return a + b\n",
    "    if oper == '-': return a - b\n",
    "    if oper == '*': return a * b\n",
    "    if oper == '/': return a // b\n",
    "\n",
    "def evaluate(tokens):\n",
    "    values = []\n",
    "    ops = []\n",
    "    \n",
    "    i = 0\n",
    "    while i < len(tokens):\n",
    "        if tokens[i] == ' ':\n",
    "            i += 1\n",
    "            continue\n",
    "        elif tokens[i] == '(':\n",
    "            ops.append(tokens[i])\n",
    "        elif tokens[i].isdigit():\n",
    "            val = 0\n",
    "            while (i < len(tokens) and\n",
    "                tokens[i].isdigit()):\n",
    "                val = (val * 10) + int(tokens[i])\n",
    "                i += 1 \n",
    "            values.append(val)\n",
    "            i-= 1\n",
    "        elif tokens[i] == ')':\n",
    "            while len(ops) != 0 and ops[-1] != '(':\n",
    "                val2 = values.pop()\n",
    "                val1 = values.pop()\n",
    "                op = ops.pop()\n",
    "                values.append(applyOp(val1, val2, op))\n",
    "            ops.pop()\n",
    "        else:\n",
    "            while (len(ops) != 0 and\n",
    "                getOrder(ops[-1]) >=\n",
    "                   getOrder(tokens[i])):\n",
    "                val2 = values.pop()\n",
    "                val1 = values.pop()\n",
    "                op = ops.pop()\n",
    "                values.append(applyOp(val1, val2, op))\n",
    "            ops.append(tokens[i])\n",
    "         \n",
    "        i += 1\n",
    "    while len(ops) != 0:\n",
    "        val2 = values.pop()\n",
    "        val1 = values.pop()\n",
    "        op = ops.pop()\n",
    "        values.append(applyOp(val1, val2, op))\n",
    "    return values[-1]\n",
    "\n",
    "if __name__ == \"__main__\":\n",
    "    print(evaluate(\"4 + 3 * 5\"))\n",
    "    print(evaluate(\"4 * 3 + 5\"))\n",
    "    print(evaluate(\"4 * ( 3 + 5)\"))\n",
    "    print(evaluate(\"4 * (5 -3)/ 2\"))"
   ]
  }
 ],
 "metadata": {
  "kernelspec": {
   "display_name": "base",
   "language": "python",
   "name": "python3"
  },
  "language_info": {
   "codemirror_mode": {
    "name": "ipython",
    "version": 3
   },
   "file_extension": ".py",
   "mimetype": "text/x-python",
   "name": "python",
   "nbconvert_exporter": "python",
   "pygments_lexer": "ipython3",
   "version": "3.9.12"
  },
  "orig_nbformat": 4
 },
 "nbformat": 4,
 "nbformat_minor": 2
}
