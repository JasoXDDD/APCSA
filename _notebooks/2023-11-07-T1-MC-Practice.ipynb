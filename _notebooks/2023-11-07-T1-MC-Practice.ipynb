{
 "cells": [
  {
   "cell_type": "markdown",
   "metadata": {},
   "source": [
    "---\n",
    "toc: true\n",
    "comments: true\n",
    "layout: post\n",
    "title: Collegeboard MC overview\n",
    "---"
   ]
  },
  {
   "cell_type": "markdown",
   "metadata": {},
   "source": [
    "![Score](T1-MC.png)\n",
    "\n",
    "Here is my final score, I got a score of 34/40, which is still good, but can be improved."
   ]
  },
  {
   "cell_type": "markdown",
   "metadata": {},
   "source": [
    "# Q4\n",
    "![Score](Q4.png)\n",
    "\n",
    "Here, I forgot to consider that without a specific type definition, the value returned would be defaulted to a int since both of the operands of the divide symbol are ints. I will be more careful in considering the types as I go along the MC, and give complete reasons for an option not being correct."
   ]
  },
  {
   "cell_type": "markdown",
   "metadata": {},
   "source": [
    "# Q22\n",
    "![Score](Q22.png)\n",
    "\n",
    "Here, I didn't know that despite the object technically being an Audiobook type, since it is stored within a Book array, all the element in it is considered a Book object regardless of their actual type. I'll be sure to reflect on my lessons further to make sure my knowledge of the lessons are complete and correct."
   ]
  },
  {
   "cell_type": "markdown",
   "metadata": {},
   "source": [
    "# Q23\n",
    "![Score](Q23.png)\n",
    "\n",
    "Here, I did not carefully consider what the function does at each step of its iterations. I just assumed that it will be switched to the end of the List instead of checking with each iteration to see if the idea was correct."
   ]
  },
  {
   "cell_type": "markdown",
   "metadata": {},
   "source": [
    "# Q28\n",
    "![Score](Q28.png)\n",
    "\n",
    "In this question, for some reason, I thought that the question said false when looking at option C and that it said true at option D, which was confusing since both will be correct in that case. I then just picked one instead of looking at it even further, and it still confused me when checking. I don't really know how this happened, but I'll make sure to stay focused on reading the question and not let this happen again."
   ]
  },
  {
   "cell_type": "markdown",
   "metadata": {},
   "source": [
    "# Q29\n",
    "![Score](Q29.png)\n",
    "\n",
    "In this question, I thought of the way I would have solved it: by looping from 1-25 and then print that multiplied by 4. I then chose the one that looped from 1-25, without actually checking that the print statement was multiplied by 4. I will make sure to always check that the option's output and the question's output are the same when doing a similiar question."
   ]
  },
  {
   "cell_type": "markdown",
   "metadata": {},
   "source": [
    "# Q29\n",
    "![Score](Q39.png)\n",
    "\n",
    "In this question, I did not concieve that the value of 8 will go through another recur() call, making the final answer at 16. I will be make sure with recursive functions to always make sure the recursing is done the correct amount of times."
   ]
  },
  {
   "cell_type": "markdown",
   "metadata": {},
   "source": [
    "# Final Thoughts\n",
    "For this check, I found 3 main problems:\n",
    "1. There are some blind spots in my knowledge, which I should review the lessons to make sure that I know everything that I need to know for the test.\n",
    "2. Sometimes I miss an answer in a simulation problem because I didn't do it carefully enough, which I should do to make sure my answer is correct, maybe with writing it out to make sure I've done it correctly.\n",
    "3. Then, there are some mistakes that I could have prevented by making sure that the \"wrong\" options are actually wrong, and it's just not the wrong answer appearing right while I didn't see the actual right answer."
   ]
  }
 ],
 "metadata": {
  "language_info": {
   "name": "python"
  }
 },
 "nbformat": 4,
 "nbformat_minor": 2
}
