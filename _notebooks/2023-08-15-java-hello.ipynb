{
 "cells": [
  {
   "attachments": {},
   "cell_type": "markdown",
   "metadata": {},
   "source": [
    "---\n",
    "# this is YAML front matter\n",
    "layout: post\n",
    "title: Java Hello\n",
    "description: A progressive journey through Java basics starting with the classic \"Hello, World!\" example.\n",
    "courses: { csa: {week: 2, categories: [4.A]} }\n",
    "categories: [C4.0]\n",
    "type: ccc\n",
    "---"
   ]
  },
  {
   "attachments": {},
   "cell_type": "markdown",
   "metadata": {},
   "source": [
    "## Hello, World!\n",
    "This article shows the basic language structures and constructs of Java (aka anatomy).  In async order, it is critical to understand these examples and learn vocab for OOP and Creating Objects: \n",
    "- [Object Oriented Programming](https://youtu.be/Wok4Xw_5cyY) \n",
    "- [Creating Objects](https://youtu.be/C5Ks_u87Ltg)\n",
    "- [Calling Methods](https://youtu.be/CPE_lYGCw3A)"
   ]
  },
  {
   "cell_type": "code",
   "execution_count": 2,
   "metadata": {},
   "outputs": [
    {
     "name": "stdout",
     "output_type": "stream",
     "text": [
      "Mr. Mortenson 32\n",
      "Mr. Yeung 32\n",
      "Mr. Yeung 37\n"
     ]
    }
   ],
   "source": [
    "\n",
    "\n",
    "// Define Class\n",
    "public class Classroom { // name the first letter of class as capitalized, note camel case\n",
    "    // instance variables\n",
    "    private String teacherName; // the name of the teacher\n",
    "    private int studentNumber; // the number of students\n",
    "    // constructor signature, public and two arguments\n",
    "    public Classroom(String teacherName, int studentNumber) { // 2 argument constructor\n",
    "        this.setTeacher(teacherName);   // using teacherName setter to set teacherName\n",
    "        this.setStudentNum(studentNumber);   // using studentNumber setter to set studentNumber\n",
    "    }\n",
    "    // setter of teacherName\n",
    "    public void setTeacher(String teacherName) {\n",
    "        this.teacherName = teacherName;\n",
    "    }\n",
    "    // getter of teacherName\n",
    "    public String getTeacher() {\n",
    "        return this.teacherName;\n",
    "    }\n",
    "    // setter of studentNumber\n",
    "    public void setStudentNum(int studentNumber) {\n",
    "        this.studentNumber = studentNumber;\n",
    "    }\n",
    "    // getter of studentNumber\n",
    "    public int getStudentNum() {\n",
    "        return this.studentNumber;\n",
    "    }\n",
    "    // tester method for the classroom class\n",
    "    public static void main(String[] args) {  \n",
    "        Classroom c1 = new Classroom(\"Mr. Mortenson\", 32); // creating sample object\n",
    "        System.out.println(c1.getTeacher()+' '+c1.getStudentNum()); // accessing getters\n",
    "        c1.setTeacher(\"Mr. Yeung\"); // changing teacherName with setter\n",
    "        System.out.println(c1.getTeacher()+' '+c1.getStudentNum()); // accessing getters\n",
    "        c1.setStudentNum(37); // changing studentNumber with setter\n",
    "        System.out.println(c1.getTeacher()+' '+c1.getStudentNum()); // accessing getters \n",
    "    }\n",
    "}\n",
    "// testing\n",
    "Classroom.main(null);"
   ]
  },
  {
   "attachments": {},
   "cell_type": "markdown",
   "metadata": {},
   "source": [
    "## Hacks\n",
    "Build your own Jupyter Notebook meeting these College Board and CTE competencies.  It is critical to understand Static versus Instance Now, this is College Board requirement!!!\n",
    "- Explain Anatomy of a Class in comments of program (Diagram key parts of the class).\n",
    "- Comment in code where there is a definition of a Class and an instance of a Class (ie object)\n",
    "- Comment in code where there are constructors and highlight the signature difference in the signature\n",
    "- Call an object method with parameter (ie setters).\n",
    "\n",
    "\n",
    "Additional requirements (Pick something)\n",
    "1. Go through code progression of understanding Class usage and generating an Instance of a Class (Object). \n",
    "    a. Build a purposeful dynamic Class, using an Object, generate multiple instances: \n",
    "        - Person: Name and Age\n",
    "        - Dessert: Type and Cost\n",
    "        - Location: City, State, Zip\n",
    "    b. Create a static void main tester method to generate objects of the class.\n",
    "    c. In tester method, show how setters/mutators can be used to make the data in the Object dynamically change\n",
    "3. Go through progression of understanding a Static Class.  Build a purposeful static Class, no Objects.\n",
    "    - Calculate common operations on a Date field, age since date, older of two dates, number of seconds since date\n",
    "    - Calculate stats functions on an array of values: mean, median, mode."
   ]
  }
 ],
 "metadata": {
  "kernelspec": {
   "display_name": "Java",
   "language": "java",
   "name": "java"
  },
  "language_info": {
   "codemirror_mode": "java",
   "file_extension": ".jshell",
   "mimetype": "text/x-java-source",
   "name": "java",
   "pygments_lexer": "java",
   "version": "11.0.20+8-post-Ubuntu-1ubuntu120.04"
  },
  "orig_nbformat": 4
 },
 "nbformat": 4,
 "nbformat_minor": 2
}
