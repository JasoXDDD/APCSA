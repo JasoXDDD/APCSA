{
 "cells": [
  {
   "cell_type": "markdown",
   "metadata": {},
   "source": [
    "---\n",
    "toc: true\n",
    "comments: true\n",
    "layout: post\n",
    "title: Final Individual Review\n",
    "---"
   ]
  },
  {
   "cell_type": "markdown",
   "metadata": {},
   "source": [
    "## Game Revises\n",
    "I made overall changes to the final game code to fix any errors I could find and trying to get it done"
   ]
  },
  {
   "cell_type": "markdown",
   "metadata": {},
   "source": [
    "I made the final blog to the whole series, understanding the entire code and identify any errors, like the api sending the wrong values. I also cleaned up certain things like the images of the cars being from 1-4 while most of the code was in 0-3"
   ]
  },
  {
   "cell_type": "markdown",
   "metadata": {},
   "source": [
    "## Reflection\n",
    "I didn't really do much during the development process, relying on my teammates to do most of the code before coming in to write the team blog and editing the code."
   ]
  },
  {
   "cell_type": "markdown",
   "metadata": {},
   "source": [
    "In order to improve upon this, I should actively try to do more in the future and attempt to be more active within the team intead of slacking off most of the time and watching others do all the work."
   ]
  },
  {
   "cell_type": "markdown",
   "metadata": {},
   "source": [
    "I think I did have a good understanding of what my team was doing. Although I did almost nothing in the development proess, I knew what my teammates was doing throughout the process."
   ]
  }
 ],
 "metadata": {
  "language_info": {
   "name": "python"
  }
 },
 "nbformat": 4,
 "nbformat_minor": 2
}
