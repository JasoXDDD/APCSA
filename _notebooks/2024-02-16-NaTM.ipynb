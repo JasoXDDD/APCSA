{
 "cells": [
  {
   "cell_type": "markdown",
   "metadata": {},
   "source": [
    "---\n",
    "layout: post\n",
    "title: N@tM Blog\n",
    "description: Blog of 2024 Tri 2 N@tM\n",
    "---"
   ]
  },
  {
   "cell_type": "markdown",
   "metadata": {},
   "source": [
    "## Experience\n",
    "We didn't qualify for the presentation but I went anyways to some cool stuff and here's some of what I saw:\n",
    "\n",
    "### Things in CS Classes\n",
    "![](imgeditor.jpg)\n",
    "This is a image editor that I saw, it has several functions, first, it has the feature to login (of course) It also have several tabs, which you can adjust the brightness, exposure, and drawing on images, which can then be exported. All of the images are stored in the database of the user and then can be exported and shown.\n",
    "Overall, the project is complete, the api and database are connected, the interface is reasonable. The problem is that some of the page looks a little out of place, maybe with a little sass it can work a lot better\n",
    "What I can extract from this to use on my project is the use of exporting images, maybe we could implement a feature that exports the graph in out finance project after creating it.\n",
    "\n",
    "![](mario.jpg)\n",
    "Another One is the multiplayer mario game that I played. You play as several different characters and go through several different levels on different difficulties, with the enemies moving back and fourth. You have a chat feature, a level select feature, and the other players show up on your screen\n",
    "I think this project focused a little too much on the features and not enough on the core gameplay. The enemies don't move smoothly, and the player characters literally teleports in the air when they jump. The ideas are nice, but I think I'd focus more on making the main game smooth before going for extra features. Also the multiplayer is not smooth, I think that the character you control should just not be read from the database, only haveing its information posted to the server and returning the other players back. It's fine if other players are inconsistent, but your character should be as smooth as possible.\n",
    "What I can extract from this project is the interaction of the different accounts, I think something that we could implement is the ability to transfer money between accounts, which can help users interacting with each other\n",
    "\n",
    "### Things Outside of CSA classes\n",
    "![](photo.jpg)\n",
    "Here are some photos that I saw at the Photography class, it's cool how diverse the cameras can produce pictures. From lighting to contrast between dark and bright colors.\n",
    "These photos were taken all over the place, and although I liked some more than others, I enjoyed viewing through them all. This batch of pictures above are some that I liked.\n",
    "I think I can use some of the lighting aethestics in our project, creating some contrasts to highlight the key parts of our project.\n",
    "\n",
    "![](donuts.jpg)\n",
    "Here are some renders of the 3D Animation class, this takes me back to my 3D animation classes that I took in 9th grade, good times. The donuts are pretty cool and the lighting and texture is done really well. \n",
    "Most of what I saw were donuts, which was understandable, as it was the easist task overall. When I took the class, I displayed the room, since I liked the lighting and the models a lot more.\n",
    "Nothing to learn here, really doesn't have much to use on our project, I mean we don't really need a donut at the corner of our website or something. We could, but it doesn't add much, we have to focus on our core mechanics before hammering out features\n",
    "\n",
    "### Summary\n",
    "I liked this N@tM a lot, better than a lot of the previous ones I've saw, the projects I seen are complete, the presentations were given really well, and the arts were a blessing to the eyes. I have taken notes on what we could do to improve out project, and I will try to implement them this coming break."
   ]
  }
 ],
 "metadata": {
  "language_info": {
   "name": "python"
  }
 },
 "nbformat": 4,
 "nbformat_minor": 2
}
