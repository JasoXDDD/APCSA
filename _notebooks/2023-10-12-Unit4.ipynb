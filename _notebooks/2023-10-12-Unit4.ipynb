{
  "cells": [
    {
      "cell_type": "markdown",
      "metadata": {
        "id": "H2owDd1giFbL"
      },
      "source": [
        "---\n",
        "toc: true\n",
        "comments: true\n",
        "layout: post\n",
        "title: U4 | Iteration\n",
        "description: while Loops, for Loops, Developing Algorithms Using Strings, Nested Iteration, Informal code analysis >>> AP Exam Weighting 17.5-22.5%\n",
        "type: plans\n",
        "courses: { csa: {week: 8} }\n",
        "authors: Aliya, Ekam, Emma, Raunak, Luna\n",
        "---"
      ]
    },
    {
      "cell_type": "markdown",
      "metadata": {
        "id": "BZAHKL8giFbO"
      },
      "source": [
        "# U4 | Iteration"
      ]
    },
    {
      "cell_type": "markdown",
      "metadata": {
        "id": "n5DwvzKDiFbO"
      },
      "source": [
        "---"
      ]
    },
    {
      "cell_type": "markdown",
      "metadata": {
        "id": "tz_lOIHhiFbP"
      },
      "source": [
        "# 4.1 while Loops"
      ]
    },
    {
      "cell_type": "markdown",
      "metadata": {
        "id": "WWocj22RiFbP"
      },
      "source": [
        "---"
      ]
    },
    {
      "cell_type": "markdown",
      "metadata": {
        "id": "8LcvRRKgiGt8"
      },
      "source": [
        "- A while loop is a fundamental control structure in programming used for repeated execution of a block of code as long as a condition is true.\n",
        "- The loop starts by evaluating the condition. If the condition is true, the code inside the loop is executed.\n",
        "- After each iteration, the condition is re-evaluated, and if it's still true, the loop continues.\n",
        "If the condition is false initially, the loop code is never executed.\n",
        "- While loops are used when you don't know in advance how many times the loop needs to execute.\n",
        "- There's a risk of infinite loops if the condition never becomes false, so be cautious.\n",
        "You can use variables and complex expressions as loop conditions.\n",
        "- It's essential to update the loop control variable within the loop to prevent infinite loops.\n",
        "- While loops are typically used for tasks such as iterating over collections or waiting for a specific condition to be met.\n",
        "- You can always break out of a while loop prematurely using the break statement."
      ]
    },
    {
      "cell_type": "markdown",
      "metadata": {
        "id": "E8iapCcPija6"
      },
      "source": [
        "## Example of While Loops"
      ]
    },
    {
      "cell_type": "code",
      "execution_count": null,
      "metadata": {
        "id": "Jq6_6Xz9iQ7T"
      },
      "outputs": [],
      "source": [
        "public class PyramidPattern {\n",
        "    public static void main(String[] args) {\n",
        "        int height = 5;\n",
        "        int row = 1;\n",
        "\n",
        "        while (row <= height) {\n",
        "            int spaces = height - row;\n",
        "            int stars = 2 * row - 1;\n",
        "\n",
        "            // Print spaces\n",
        "            int spaceCount = spaces;\n",
        "            while (spaceCount > 0) {\n",
        "                System.out.print(\" \");\n",
        "                spaceCount--;\n",
        "            }\n",
        "\n",
        "            // Print stars\n",
        "            int starCount = stars;\n",
        "            while (starCount > 0) {\n",
        "                System.out.print(\"*\");\n",
        "                starCount--;\n",
        "            }\n",
        "\n",
        "            System.out.println(); // Move to the next line for the next row\n",
        "            row++;\n",
        "        }\n",
        "    }\n",
        "}"
      ]
    },
    {
      "cell_type": "markdown",
      "metadata": {
        "id": "PlEcHnmjiFbP"
      },
      "source": [
        "# 4.2 for Loops"
      ]
    },
    {
      "cell_type": "markdown",
      "metadata": {
        "id": "zqeh9EO5iFbP"
      },
      "source": [
        "---"
      ]
    },
    {
      "cell_type": "markdown",
      "metadata": {
        "id": "KE4BIEPriFbQ"
      },
      "source": [
        "- Iterative statement that checks for condition\n",
        "- Repeatedly execute a a block of code as long as the condition is met\n",
        "- Condition specifies amount of times\n",
        "\n",
        "# for Loops vs. while Loops\n",
        "- while Loops: use when number of iterations is unknown\n",
        "- for Loops: use when number of iterations is known"
      ]
    },
    {
      "cell_type": "code",
      "execution_count": null,
      "metadata": {
        "id": "puqpCZjUiFbQ",
        "outputId": "d0b6c4cd-efd4-48bc-94ae-a1a65f07ca7b"
      },
      "outputs": [
        {
          "name": "stdout",
          "output_type": "stream",
          "text": [
            "0\n",
            "1\n",
            "2\n",
            "3\n",
            "4\n"
          ]
        }
      ],
      "source": [
        "int i = 0;\n",
        "while (i < 5) {\n",
        "    System.out.println(i);\n",
        "    i++;\n",
        "}"
      ]
    },
    {
      "cell_type": "code",
      "execution_count": null,
      "metadata": {
        "id": "gZ19jPsGiFbS",
        "outputId": "8b800081-760b-4b06-c86d-c867c9b1c841"
      },
      "outputs": [
        {
          "name": "stdout",
          "output_type": "stream",
          "text": [
            "0\n",
            "1\n",
            "2\n",
            "3\n",
            "4\n"
          ]
        }
      ],
      "source": [
        "for (int i = 0; i < 5; i++) {\n",
        "    System.out.println(i);\n",
        "}"
      ]
    },
    {
      "cell_type": "markdown",
      "metadata": {
        "id": "w9Hb_U8JiFbS"
      },
      "source": [
        "- Three parts in for loop header: variable initialization, Boolean (conditional) expression, and increment/decrement statement\n",
        "\n",
        "Question: Which part is which?\n",
        "\n",
        "- variable initialization (int i=0): sets variable before loop starts\n",
        "- Boolean (conditional) expression (i < 5): defines condition for loop to run, in this case, the loop continues as long as i is less than 5, so loops 5 times i 05\n",
        "- increment/decrement statement (i++): increases variable each time code block in the loop is executed, in this case it increases by 1\n",
        "- variable can be used in the code block for other various reasons besides specifying how many times the loop will repeat\n",
        "- Boolean (conditional) expression and increment/decrement statement together determine how many times the loop will repeat\n"
      ]
    },
    {
      "cell_type": "markdown",
      "metadata": {
        "id": "2Qsee252iFbT"
      },
      "source": [
        "# 4.3 Developing Algorithms Using Strings"
      ]
    },
    {
      "cell_type": "markdown",
      "metadata": {
        "id": "yx27l9SHiFbT"
      },
      "source": [
        "---"
      ]
    },
    {
      "cell_type": "markdown",
      "metadata": {
        "id": "o7jsDtk6iFbT"
      },
      "source": [
        "LEARNING OBJECTIVES:\n",
        "For algorithms in the context of a particular specification that involves ```String``` objects:\n",
        "- identify standard algorithms\n",
        "- modify standard algorithms\n",
        "- develop an algorithm\n",
        "\n",
        "\n",
        "**Java has many methods that are helpful when working with strings:**\n",
        "\n",
        "* ```String .substring``` --> retrieves portion of a string\n",
        "* ```String .equals``` --> compares two strings\n",
        "* ```String .length``` --> returns length of a string\n",
        "* ```for Loop``` --> iterating through characters of a string\n",
        "\n",
        "<br>\n",
        "<br>\n",
        "\n",
        "<h3> Finding a substring within a string </h3>\n",
        "\n",
        "We can use the \"window\" method:\n",
        "\n",
        "A \"window\" is created the same length as the substring. We then iterate through the main string in sections and compare to the substring\n",
        "\n",
        "For example:\n",
        "\n",
        "<h3> I T E R A T E </h3>with substring \"ERA\"\n",
        "\n",
        "<br>\n",
        "<br>\n",
        "<br>"
      ]
    },
    {
      "cell_type": "code",
      "execution_count": 1,
      "metadata": {
        "id": "NdBC9Hr5iFbT"
      },
      "outputs": [
        {
          "ename": "EvalException",
          "evalue": "begin 5, end 8, length 7",
          "output_type": "error",
          "traceback": [
            "\u001b[1m\u001b[31m---------------------------------------------------------------------------\u001b[0m",
            "\u001b[1m\u001b[31mjava.lang.StringIndexOutOfBoundsException: begin 5, end 8, length 7\u001b[0m",
            "\u001b[1m\u001b[31m\tat java.base/java.lang.String.checkBoundsBeginEnd(String.java:3319)\u001b[0m",
            "\u001b[1m\u001b[31m\tat java.base/java.lang.String.substring(String.java:1874)\u001b[0m",
            "\u001b[1m\u001b[31m\tat StringFinder.main(#12:8)\u001b[0m",
            "\u001b[1m\u001b[31m\tat .(#13:1)\u001b[0m"
          ]
        }
      ],
      "source": [
        "public class StringFinder {\n",
        "    public static void main(String[] args) {\n",
        "        String word = \"iterate\";\n",
        "        String sub = \"era\";\n",
        "        boolean found = false; // will be set to true once substring is found\n",
        "\n",
        "        for (int i = 0; i < word.length(); i++) { //iterating forwards: starting at first index (0) and going to the length of the word.. let's try word.length\n",
        "            String portion = word.substring(i, i + sub.length());\n",
        "            if (portion.equals(sub)) // make sure you use .equals!!\n",
        "                found = true;\n",
        "        }\n",
        "\n",
        "        if (found)\n",
        "            System.out.println(\"substring is found within string!\");\n",
        "        else\n",
        "            System.out.println(\"substring is NOT within string\");\n",
        "    }\n",
        "\n",
        "    }\n",
        "\n",
        "    StringFinder.main(null);"
      ]
    },
    {
      "cell_type": "markdown",
      "metadata": {
        "id": "bWGMnmK6iFbT"
      },
      "source": [
        "<h4> POPCORN HACK: Run the code.. what happened? How can we fix it?</h4>\n",
        "\n",
        "Tell us below!\n",
        "\n",
        "The code ran all the way until the substring was looking for chars outside the string because i was at the very end.\n",
        "It can be fixed by limiting the iteration to the length-length of target substrin\n",
        "<br>\n",
        "<br>\n",
        "\n",
        "<h4> Another issue:</h4>\n",
        "\n",
        "<h3> I T E R A T E </h3>\n",
        "What if our substring was the word \"RATE\"? Note that RATE is at the end of the whole string\n",
        "\n",
        "If the fix above was used, then it shouldn't matter\n",
        "<br>\n",
        "<br>\n",
        "\n",
        "<h3> HACKS </h3>\n",
        "\n",
        "**Create a algorithm similar to the one above. Except this time, use iteration to count the number of vowels within the main string.**\n",
        "\n",
        "HINT: Use the boolean expressions we have learned in previous lessons. Which would you use when comparing your \"window\" with multiple options of substrings?"
      ]
    },
    {
      "cell_type": "code",
      "execution_count": 3,
      "metadata": {},
      "outputs": [
        {
          "name": "stdout",
          "output_type": "stream",
          "text": [
            "4\n"
          ]
        }
      ],
      "source": [
        "public class StringFinder {\n",
        "    public static void main(String[] args) {\n",
        "        String word = \"iterate\";\n",
        "        int foundVowels = 0; // records the number of vowls\n",
        "\n",
        "        for (int i = 0; i < word.length(); i++) { //iterating forwards: starting at first index (0) and going to the length of the word.. let's try word.length\n",
        "            char c = word.charAt(i); // gets the char at i\n",
        "            if (c=='a'||c=='e'||c=='i'||c=='o'||c=='u') // checks if the char is a vowel\n",
        "                foundVowels++;//add one if that's the case\n",
        "        }\n",
        "\n",
        "        System.out.println(foundVowels);\n",
        "    }\n",
        "\n",
        "    }\n",
        "\n",
        "    StringFinder.main(null);"
      ]
    },
    {
      "cell_type": "markdown",
      "metadata": {
        "id": "gQ5Aei3eiFbT"
      },
      "source": [
        "# 4.4 Nested Iteration"
      ]
    },
    {
      "cell_type": "markdown",
      "metadata": {
        "id": "sdYSe47hiFbT"
      },
      "source": [
        "**nested iteration**\n",
        "<details>occurs when we have a loop inside of another loop, similar to nested conditional statements in unit 3"
      ]
    },
    {
      "cell_type": "markdown",
      "metadata": {
        "id": "8qx7m09piFbT"
      },
      "source": [
        "When you have one loop inside another, the inner loop has to finish all its rounds before the outer loop moves to the next round. If the inner loop has a \"stop\" command, it only stops for that round of the outer loop. The next time the outer loop starts a new round, the inner loop starts over.\n",
        "\n",
        "If you have two nested loops without stops, and the outer one runs n times while the inner one runs m times each time the outer one goes around, the inner loop will run m times n times, which is m * n times in total. This rule also applies if you have more than two nested loops. To find the total number of times the innermost loop runs, just multiply how many times each loop runs per round."
      ]
    },
    {
      "cell_type": "code",
      "execution_count": null,
      "metadata": {
        "id": "SE-EnFk5iFbU"
      },
      "outputs": [],
      "source": [
        "public class NestedLoopsDemo {\n",
        "    public static void main(String[] args) {\n",
        "        int n = 3; //numb of times the outside loop runs\n",
        "        int m = 2; //numb of times the inside loop runs\n",
        "\n",
        "        //the nested loops\n",
        "        for (int i = 1; i <= n; i++) {\n",
        "            System.out.println(\"Outer loop iteration: \" + i);\n",
        "            for (int j = 1; j <= m; j++) {\n",
        "                System.out.println(\"Inner loop iteration: \" + j);\n",
        "            }\n",
        "        }\n",
        "    }\n",
        "}\n",
        "NestedLoopsDemo.main(null)"
      ]
    },
    {
      "cell_type": "markdown",
      "metadata": {
        "id": "2tGuZ6sliFbU"
      },
      "source": [
        "### Break Statement\n",
        "\n",
        "**break statement**\n",
        "<details>is used to exit a loop prematurely, typically when a certain condition is met. In the case of nested loops, it can be used to break out of the innermost loop."
      ]
    },
    {
      "cell_type": "code",
      "execution_count": null,
      "metadata": {
        "id": "WYOiIZ0hiFbU"
      },
      "outputs": [],
      "source": [
        "public class BreakExample {\n",
        "    public static void main(String[] args) {\n",
        "        for (int i = 1; i <= 3; i++) {\n",
        "            System.out.println(\"Outer loop iteration \" + i);\n",
        "\n",
        "            for (int j = 1; j <= 3; j++) {\n",
        "                System.out.println(\"Inner loop iteration \" + j);\n",
        "\n",
        "                if (i == 2 && j == 2) {\n",
        "                    System.out.println(\"Breaking inner loop\");\n",
        "                    break; //break out of the inside loop when i is 2 and j is 2.\n",
        "                }\n",
        "            }\n",
        "        }\n",
        "    }\n",
        "}\n",
        "BreakExample.main(null)"
      ]
    },
    {
      "cell_type": "markdown",
      "metadata": {
        "id": "07CqREosiFbU"
      },
      "source": [
        "### Popcorn HACK\n",
        "\n",
        "When the targetNumber is found, you can print a message and use the break statement to exit the loop. When it's not found, you can print a message indicating that the number was not found."
      ]
    },
    {
      "cell_type": "code",
      "execution_count": 4,
      "metadata": {
        "id": "mvD8YS8giFbU"
      },
      "outputs": [
        {
          "name": "stdout",
          "output_type": "stream",
          "text": [
            "not found\n"
          ]
        }
      ],
      "source": [
        "public class BreakHack {\n",
        "    public static void main(String[] args) {\n",
        "        int targetNumber = 42; //numb we want\n",
        "        int[] numbers = {10, 20, 30, 40, 50, 60, 70}; //numb array\n",
        "\n",
        "        for (int number : numbers) {\n",
        "            if (number == targetNumber) {\n",
        "                System.out.println(\"found\");\n",
        "                break;\n",
        "            }\n",
        "        }\n",
        "        System.out.println(\"not found\");\n",
        "    }\n",
        "}\n",
        "BreakHack.main(null);"
      ]
    },
    {
      "cell_type": "markdown",
      "metadata": {
        "id": "Uu9qDRhriFbU"
      },
      "source": [
        "### Continue Statement\n",
        "\n",
        "**continue statement**\n",
        "<details>is used to skip the current iteration of a loop and move to the next iteration. In the case of nested loops, it applies to the innermost loop."
      ]
    },
    {
      "cell_type": "code",
      "execution_count": 7,
      "metadata": {
        "id": "LBzvnBikiFbU"
      },
      "outputs": [
        {
          "name": "stdout",
          "output_type": "stream",
          "text": [
            "Outer loop iteration 1\n",
            "Inner loop iteration 1\n",
            "Inner loop iteration 2\n",
            "Inner loop iteration 3\n",
            "Outer loop iteration 2\n",
            "Inner loop iteration 1\n",
            "Skipping inner loop iteration 2\n",
            "Inner loop iteration 3\n",
            "Outer loop iteration 3\n",
            "Inner loop iteration 1\n",
            "Inner loop iteration 2\n",
            "Inner loop iteration 3\n"
          ]
        }
      ],
      "source": [
        "public class ContinueExample {\n",
        "    public static void main(String[] args) {\n",
        "        for (int i = 1; i <= 3; i++) {\n",
        "            System.out.println(\"Outer loop iteration \" + i);\n",
        "\n",
        "            for (int j = 1; j <= 3; j++) {\n",
        "                if (i == 2 && j == 2) {\n",
        "                    System.out.println(\"Skipping inner loop iteration \" + j);\n",
        "                    continue; //skip the iteration when i is 2 and j is 2.\n",
        "                }\n",
        "                System.out.println(\"Inner loop iteration \" + j);\n",
        "            }\n",
        "        }\n",
        "    }\n",
        "}\n",
        "ContinueExample.main(null)"
      ]
    },
    {
      "cell_type": "markdown",
      "metadata": {
        "id": "_CMN4mGIiFbU"
      },
      "source": [
        "### Patterns and Shapes"
      ]
    },
    {
      "cell_type": "code",
      "execution_count": 8,
      "metadata": {
        "id": "i3FAExO2iFbV"
      },
      "outputs": [
        {
          "name": "stdout",
          "output_type": "stream",
          "text": [
            "Enter the symbol you want to use: \n"
          ]
        },
        {
          "name": "stdout",
          "output_type": "stream",
          "text": [
            "Enter the number of rows for the pyramid: \n",
            "    %\n",
            "   %%%\n",
            "  %%%%%\n",
            " %%%%%%%\n",
            "%%%%%%%%%\n"
          ]
        }
      ],
      "source": [
        "import java.util.Scanner;\n",
        "\n",
        "public class InteractivePyramid {\n",
        "    public static void main(String[] args) {\n",
        "        Scanner scanner = new Scanner(System.in);\n",
        "\n",
        "        System.out.println(\"Enter the symbol you want to use: \");\n",
        "        char symbol = scanner.next().charAt(0);\n",
        "\n",
        "        System.out.println(\"Enter the number of rows for the pyramid: \");\n",
        "        int numRows = scanner.nextInt();\n",
        "\n",
        "        for (int i = 1; i <= numRows; i++) {\n",
        "            //print space before the symbol\n",
        "            for (int j = 1; j <= numRows - i; j++) {\n",
        "                System.out.print(\" \");\n",
        "            }\n",
        "\n",
        "            //print\n",
        "            for (int k = 1; k <= 2 * i - 1; k++) {\n",
        "                System.out.print(symbol);\n",
        "            }\n",
        "\n",
        "            System.out.println(); //next line\n",
        "        }\n",
        "        scanner.close();\n",
        "    }\n",
        "}\n",
        "InteractivePyramid.main(null)"
      ]
    },
    {
      "cell_type": "markdown",
      "metadata": {
        "id": "WKNmFknwiFbV"
      },
      "source": [
        "## Hacks\n",
        "\n",
        "1. **Modify pyramid code:**\n",
        "\n",
        "- Create different patterns (other then pyramid) by modifying nested loop structure\n",
        "\n",
        "2. **Questions**\n",
        "\n",
        "- What is a nested iteration, continue statement, and break statement (in your own words)?\n",
        "    - nested iteration: a iteration inside of another iteration that runs everytime itself is iterated\n",
        "    - countinue statement: skips the rest of the code for this iteration and goes to the next\n",
        "    - break statement: stops the iteration and goes on to the next part directly\n",
        "- Create a simple example of a continue statement **or** break statement"
      ]
    },
    {
      "cell_type": "code",
      "execution_count": 9,
      "metadata": {},
      "outputs": [
        {
          "name": "stdout",
          "output_type": "stream",
          "text": [
            "Enter the symbol you want to use: \n",
            "Enter the number of rows for the checkerboard: \n",
            "& & & & & \n",
            " & & & & &\n",
            "& & & & & \n",
            " & & & & &\n",
            "& & & & & \n",
            " & & & & &\n",
            "& & & & & \n",
            " & & & & &\n",
            "& & & & & \n",
            " & & & & &\n"
          ]
        }
      ],
      "source": [
        "import java.util.Scanner;\n",
        "\n",
        "public class InteractiveCheckerboard {\n",
        "    public static void main(String[] args) {\n",
        "        Scanner scanner = new Scanner(System.in);\n",
        "\n",
        "        System.out.println(\"Enter the symbol you want to use: \");\n",
        "        char symbol = scanner.next().charAt(0);\n",
        "\n",
        "        System.out.println(\"Enter the number of rows for the checkerboard: \");\n",
        "        int numRows = scanner.nextInt();\n",
        "\n",
        "        for (int i = 0; i < numRows; i++) {\n",
        "            for (int j = 0; j < numRows; j++) {\n",
        "                if ((i+j)%2==0){\n",
        "                    System.out.print(symbol);\n",
        "                } else {\n",
        "                    System.out.print(\" \");\n",
        "                }\n",
        "            }\n",
        "\n",
        "            System.out.println(); //next line\n",
        "        }\n",
        "        scanner.close();\n",
        "    }\n",
        "}\n",
        "InteractiveCheckerboard.main(null)"
      ]
    },
    {
      "cell_type": "code",
      "execution_count": 11,
      "metadata": {},
      "outputs": [
        {
          "name": "stdout",
          "output_type": "stream",
          "text": [
            "Enter the number you really hate (you don't even want to see its multiples): \n",
            "1, 2, 3, 4, 5, 6, 8, 9, \n",
            "10, 11, 12, 13, 15, 16, 17, 18, 19, \n",
            "20, 22, 23, 24, 25, 26, 27, 29, \n",
            "30, 31, 32, 33, 34, 36, 37, 38, 39, \n",
            "40, 41, 43, 44, 45, 46, 47, 48, \n",
            "50, 51, 52, 53, 54, 55, 57, 58, 59, \n",
            "60, 61, 62, 64, 65, 66, 67, 68, 69, \n",
            "71, 72, 73, 74, 75, 76, 78, 79, \n",
            "80, 81, 82, 83, 85, 86, 87, 88, 89, \n",
            "90, 92, 93, 94, 95, 96, 97, 99, \n"
          ]
        }
      ],
      "source": [
        "public class AvoidMultiples {\n",
        "    public static void main(String[] args) {\n",
        "        Scanner scanner = new Scanner(System.in);\n",
        "\n",
        "        System.out.println(\"Enter the number you really hate (you don't even want to see its multiples): \");\n",
        "        int badNum = scanner.nextInt();\n",
        "\n",
        "        for (int i = 0; i < 10; i++) {\n",
        "            for (int j = 0; j < 10; j++) {\n",
        "                if ((i*10+j)%badNum!=0){\n",
        "                    System.out.print(i*10+j);\n",
        "                    System.out.print(\", \");\n",
        "                }\n",
        "            }\n",
        "\n",
        "            System.out.println(); //next line\n",
        "        }\n",
        "        scanner.close();\n",
        "    }\n",
        "}\n",
        "\n",
        "AvoidMultiples.main(null);"
      ]
    },
    {
      "cell_type": "markdown",
      "metadata": {
        "id": "1cP_yN3jiFbV"
      },
      "source": [
        "---"
      ]
    },
    {
      "cell_type": "markdown",
      "metadata": {
        "id": "BuoyimRViFbV"
      },
      "source": [
        "# 4.5 Informal Code Analysis\n",
        "\n",
        "<b>Learning objective</b>: Compute statement execution counts & informal run-time comparison of iterative statements\n",
        "\n",
        "<b>Essential Knowledge</b>: A statement execution count indicates the number of times a statement is executed by the program"
      ]
    },
    {
      "cell_type": "markdown",
      "metadata": {
        "id": "i6lNhfE5iFbV"
      },
      "source": [
        "<h3> What IS informal code analysis? </h3>\n",
        "\n",
        "Answer: an analysis of what the code will do without running it"
      ]
    },
    {
      "cell_type": "code",
      "execution_count": null,
      "metadata": {
        "id": "u-8M605aiFbV"
      },
      "outputs": [],
      "source": [
        "// CODE EXAMPLE #1 (for loop)\n",
        "public class InformalCodeAnalysis {\n",
        "    public static void main(String[] args) {\n",
        "        int count = 0;\n",
        "        for (int k = 0; k < 30; k++)\n",
        "        {\n",
        "            if (k % 3 == 0) // statement 1\n",
        "            {\n",
        "                count++; // statement 2\n",
        "            }\n",
        "        }\n",
        "    }\n",
        "}"
      ]
    },
    {
      "cell_type": "markdown",
      "metadata": {
        "id": "mG7oXy_SiFbW"
      },
      "source": [
        "<b>How many times will statement 1 execute? </b>\n",
        "\n",
        "Answer: 30\n",
        "\n",
        "<b>How many times will statement 2 execute?</b>\n",
        "\n",
        "Answer: 10"
      ]
    },
    {
      "cell_type": "code",
      "execution_count": null,
      "metadata": {
        "id": "QVPEF82jiFbW"
      },
      "outputs": [],
      "source": [
        "// CODE EXAMPLE #2 (for loop)\n",
        "public class InformalCodeAnalysis {\n",
        "    public static void main(String[] args) {\n",
        "        int count = 0;\n",
        "        for (int k = 4; k < 30; k+=3)\n",
        "        {\n",
        "            count++; // statement 3\n",
        "        }\n",
        "    }\n",
        "}"
      ]
    },
    {
      "cell_type": "markdown",
      "metadata": {
        "id": "ZfFLuOHqiFbW"
      },
      "source": [
        "<b>How many times will statement 3 execute?</b>\n",
        "\n",
        "Answer:26"
      ]
    },
    {
      "cell_type": "code",
      "execution_count": null,
      "metadata": {
        "id": "fv6VvS8AiFbW"
      },
      "outputs": [],
      "source": [
        "// Rewrite the code segment below to have a faster run-time based on statement execution counts\n",
        "for (int k = 0; k < 135; k++)\n",
        "{\n",
        "    if (k % 5 == 0)\n",
        "    {\n",
        "        System.out.println(k);\n",
        "    }\n",
        "}"
      ]
    },
    {
      "cell_type": "code",
      "execution_count": null,
      "metadata": {
        "id": "PAtLyFjKiFbX"
      },
      "outputs": [],
      "source": [
        "// CODE EXAMPLE #3 (while loop)\n",
        "\n",
        "int num = (int)(Math.random() * 10);\n",
        "while (num % 2 != 0)\n",
        "{\n",
        "    num = (int)(Math.random() * 10) // statement 4\n",
        "}"
      ]
    },
    {
      "cell_type": "markdown",
      "metadata": {
        "id": "AaMr4kc3iFbX"
      },
      "source": [
        "<b>What is the min/max number of times statement 4 will execute?</b>\n",
        "\n",
        "Answer: min-0 times, max-infinite"
      ]
    },
    {
      "cell_type": "code",
      "execution_count": null,
      "metadata": {
        "id": "87I7g-oKiFbg"
      },
      "outputs": [],
      "source": [
        "// CODE EXAMPLE #4 (nested loop)\n",
        "\n",
        "for (int outer = 0; outer < 3; outer++)\n",
        "{\n",
        "    for (int inner = 0; inner < 4; inner++)\n",
        "    {\n",
        "        // statement #5\n",
        "    }\n",
        "}"
      ]
    },
    {
      "cell_type": "markdown",
      "metadata": {
        "id": "QjD7iRJbiFbg"
      },
      "source": [
        "<b>How many times will statement #5 execute?</b>\n",
        "\n",
        "Answer: 12"
      ]
    },
    {
      "cell_type": "code",
      "execution_count": null,
      "metadata": {
        "id": "vHEVqsx3iFbh"
      },
      "outputs": [],
      "source": [
        "// CODE EXAMPLE #5 (nested loop)\n",
        "\n",
        "int k = 0;\n",
        "while (k < 5)\n",
        "{\n",
        "    int x = (int)(Math.random() * 6) + 1;\n",
        "    while (x != 6)\n",
        "    {\n",
        "        // statement #6\n",
        "        x = (int)(Math.random() * 6) + 1;\n",
        "    }\n",
        "    k++;\n",
        "}"
      ]
    },
    {
      "cell_type": "markdown",
      "metadata": {
        "id": "2-bB9MoEiFbh"
      },
      "source": [
        "<b>How many times will statement #6 execute?</b>\n",
        "\n",
        "Answer: min-0 times, max-5 times"
      ]
    },
    {
      "cell_type": "markdown",
      "metadata": {
        "id": "ovHrQpRYiFbh"
      },
      "source": [
        "# 4.5 Hacks"
      ]
    },
    {
      "cell_type": "markdown",
      "metadata": {
        "id": "o7wKf8YpiFbh"
      },
      "source": [
        "\n",
        "<b>#1 How many times will statement #1 and statement #2 execute in the code segments below? </b>\n",
        "\n",
        "1000 times, 44 times"
      ]
    },
    {
      "cell_type": "code",
      "execution_count": null,
      "metadata": {
        "id": "4Xv5tRjViFbh"
      },
      "outputs": [],
      "source": [
        "for (int k = 0; k < 1000; k++)\n",
        "{\n",
        "    // statement #1\n",
        "}"
      ]
    },
    {
      "cell_type": "code",
      "execution_count": null,
      "metadata": {
        "id": "klZimcf_iFbh"
      },
      "outputs": [],
      "source": [
        "for (int k = 6; k < 50; k++)\n",
        "{\n",
        "    // statement #2\n",
        "}"
      ]
    },
    {
      "cell_type": "markdown",
      "metadata": {
        "id": "8rDcCOqoiFbh"
      },
      "source": [
        "<b>#2 How many times will statement #3 execute for the code segment below?</b>\n",
        "28"
      ]
    },
    {
      "cell_type": "code",
      "execution_count": null,
      "metadata": {
        "id": "J7zbFi5tiFbh"
      },
      "outputs": [],
      "source": [
        "int k = 1;\n",
        "while (k <=7)\n",
        "{\n",
        "    for (int z = 0; z < 4; z++)\n",
        "    {\n",
        "        // statement #3\n",
        "    }\n",
        "    k++;\n",
        "}"
      ]
    },
    {
      "cell_type": "markdown",
      "metadata": {
        "id": "SkYq79_HiFbh"
      },
      "source": [
        "<b>#3 Create 3 seperate code segments that execute a statement 10 times using: </b>\n",
        "\n",
        "(a) a for loop\n",
        "\n",
        "(b) a while loop\n",
        "\n",
        "(c) a nested loop"
      ]
    },
    {
      "cell_type": "code",
      "execution_count": 12,
      "metadata": {
        "id": "KyXT2RyMiFbh"
      },
      "outputs": [
        {
          "name": "stdout",
          "output_type": "stream",
          "text": [
            "0\n",
            "4\n",
            "8\n",
            "12\n",
            "16\n",
            "20\n",
            "24\n",
            "28\n",
            "32\n",
            "36\n"
          ]
        }
      ],
      "source": [
        "// 3a code\n",
        "for (int k = 0; k < 10; k++) { //using a for loop\n",
        "    System.out.println(k*4); \n",
        "}"
      ]
    },
    {
      "cell_type": "code",
      "execution_count": 13,
      "metadata": {
        "id": "9gSAz_D9iFbi"
      },
      "outputs": [
        {
          "name": "stdout",
          "output_type": "stream",
          "text": [
            "0\n",
            "4\n",
            "8\n",
            "12\n",
            "16\n",
            "20\n",
            "24\n",
            "28\n",
            "32\n",
            "36\n"
          ]
        }
      ],
      "source": [
        "// 3b code\n",
        "int k = 0;\n",
        "while (k < 10) { //using a while loop\n",
        "    System.out.println(k*4);\n",
        "    k++; \n",
        "}"
      ]
    },
    {
      "cell_type": "code",
      "execution_count": 14,
      "metadata": {
        "id": "DFKyyHdiiFbi"
      },
      "outputs": [
        {
          "name": "stdout",
          "output_type": "stream",
          "text": [
            "0\n",
            "4\n",
            "8\n",
            "12\n",
            "16\n",
            "20\n",
            "24\n",
            "28\n",
            "32\n",
            "36\n"
          ]
        }
      ],
      "source": [
        "// 3c code\n",
        "for (int i = 0; i < 2; i++) { //using nested loops\n",
        "    for (int j=0; j<5; j++){\n",
        "        System.out.println((i*5+j)*4); \n",
        "    }\n",
        "}"
      ]
    },
    {
      "cell_type": "markdown",
      "metadata": {},
      "source": [
        "### Bonus Code\n",
        "I made the following code using knowledge that I've gathered from the lesson:"
      ]
    },
    {
      "cell_type": "code",
      "execution_count": 19,
      "metadata": {},
      "outputs": [
        {
          "name": "stdout",
          "output_type": "stream",
          "text": [
            "Hello World!\n",
            "code code code\n",
            "ZAVW WVZAPUN HIVBA HTVUN BZ! P'T APYLK VM ZLLPUN PA! TF MYPLUKZ VU APRAVR ZLUK TL TLTLZ, VU KPZJVYK PA'Z HSS TLTLZ! P dhz pu h zlycly, ypnoa? huk HSS VM AOL JOHUULSZ dlyl qbza #htvun-bz-zabmm. P-P zovdlk tf johtwpvu a-zopya av tf npysmypluk huk a-aol svnv P mspwwlk pa huk P zhpk \"olf ihil, dolu aol svnv pz zbz OHOH KPUN KPUN KPUN KPUN KPUN KPUN KPUN KP KP KPUN\" P svvrlk ha h ayhzojhu huk zhpk \"AOHA'Z H IPA ZBZZF\" P svvrlk ha aol mpyl hshyt P aopur vm hu hzayvuhbaz olstla huk P nv \"MPYL HSHYT? TVYL SPRL ZBZ HSHYT\" HHHHHHHHHHHHHHONLZMN\n",
            "ABWX XWABQVO IJWCB IUWVO CA! Q'U BQZML WN AMMQVO QB! UG NZQMVLA WV BQSBWS AMVL UM UMUMA, WV LQAKWZL QB'A ITT UMUMA! Q eia qv i amzdmz, zqopb? ivl ITT WN BPM KPIVVMTA emzm rcab #iuwvo-ca-abcnn. Q-Q apweml ug kpiuxqwv b-apqzb bw ug oqztnzqmvl ivl b-bpm twow Q ntqxxml qb ivl Q aiql \"pmg jijm, epmv bpm twow qa aca PIPI LQVO LQVO LQVO LQVO LQVO LQVO LQVO LQ LQ LQVO\" Q twwsml ib i bziapkiv ivl aiql \"BPIB'A I JQB ACAAG\" Q twwsml ib bpm nqzm itizu Q bpqvs wn iv iabzwvicba pmtumb ivl Q ow \"NQZM ITIZU? UWZM TQSM ACA ITIZU\" IIIIIIIIIIIIIIPOMANO\n",
            "BCXY YXBCRWP JKXDC JVXWP DB! R'V CRANM XO BNNRWP RC! VH OARNWMB XW CRTCXT BNWM VN VNVNB, XW MRBLXAM RC'B JUU VNVNB! R fjb rw j bnaena, arpqc? jwm JUU XO CQN LQJWWNUB fnan sdbc #jvxwp-db-bcdoo. R-R bqxfnm vh lqjvyrxw c-bqrac cx vh prauoarnwm jwm c-cqn uxpx R ouryynm rc jwm R bjrm \"qnh kjkn, fqnw cqn uxpx rb bdb QJQJ MRWP MRWP MRWP MRWP MRWP MRWP MRWP MR MR MRWP\" R uxxtnm jc j cajbqljw jwm bjrm \"CQJC'B J KRC BDBBH\" R uxxtnm jc cqn oran jujav R cqrwt xo jw jbcaxwjdcb qnuvnc jwm R px \"ORAN JUJAV? VXAN URTN BDB JUJAV\" JJJJJJJJJJJJJJQPNBOP\n",
            "CDYZ ZYCDSXQ KLYED KWYXQ EC! S'W DSBON YP COOSXQ SD! WI PBSOXNC YX DSUDYU COXN WO WOWOC, YX NSCMYBN SD'C KVV WOWOC! S gkc sx k cobfob, bsqrd? kxn KVV YP DRO MRKXXOVC gobo tecd #kwyxq-ec-cdepp. S-S crygon wi mrkwzsyx d-crsbd dy wi qsbvpbsoxn kxn d-dro vyqy S pvszzon sd kxn S cksn \"roi lklo, grox dro vyqy sc cec RKRK NSXQ NSXQ NSXQ NSXQ NSXQ NSXQ NSXQ NS NS NSXQ\" S vyyuon kd k dbkcrmkx kxn cksn \"DRKD'C K LSD CECCI\" S vyyuon kd dro psbo kvkbw S drsxu yp kx kcdbyxkedc rovwod kxn S qy \"PSBO KVKBW? WYBO VSUO CEC KVKBW\" KKKKKKKKKKKKKKRQOCPQ\n",
            "DEZA AZDETYR LMZFE LXZYR FD! T'X ETCPO ZQ DPPTYR TE! XJ QCTPYOD ZY ETVEZV DPYO XP XPXPD, ZY OTDNZCO TE'D LWW XPXPD! T hld ty l dpcgpc, ctrse? lyo LWW ZQ ESP NSLYYPWD hpcp ufde #lxzyr-fd-defqq. T-T dszhpo xj nslxatzy e-dstce ez xj rtcwqctpyo lyo e-esp wzrz T qwtaapo te lyo T dlto \"spj mlmp, hspy esp wzrz td dfd SLSL OTYR OTYR OTYR OTYR OTYR OTYR OTYR OT OT OTYR\" T wzzvpo le l ecldsnly lyo dlto \"ESLE'D L MTE DFDDJ\" T wzzvpo le esp qtcp lwlcx T estyv zq ly ldeczylfed spwxpe lyo T rz \"QTCP LWLCX? XZCP WTVP DFD LWLCX\" LLLLLLLLLLLLLLSRPDQR\n",
            "EFAB BAEFUZS MNAGF MYAZS GE! U'Y FUDQP AR EQQUZS UF! YK RDUQZPE AZ FUWFAW EQZP YQ YQYQE, AZ PUEOADP UF'E MXX YQYQE! U ime uz m eqdhqd, dustf? mzp MXX AR FTQ OTMZZQXE iqdq vgef #myazs-ge-efgrr. U-U etaiqp yk otmybuaz f-etudf fa yk sudxrduqzp mzp f-ftq xasa U rxubbqp uf mzp U emup \"tqk nmnq, itqz ftq xasa ue ege TMTM PUZS PUZS PUZS PUZS PUZS PUZS PUZS PU PU PUZS\" U xaawqp mf m fdmetomz mzp emup \"FTMF'E M NUF EGEEK\" U xaawqp mf ftq rudq mxmdy U ftuzw ar mz mefdazmgfe tqxyqf mzp U sa \"RUDQ MXMDY? YADQ XUWQ EGE MXMDY\" MMMMMMMMMMMMMMTSQERS\n",
            "FGBC CBFGVAT NOBHG NZBAT HF! V'Z GVERQ BS FRRVAT VG! ZL SEVRAQF BA GVXGBX FRAQ ZR ZRZRF, BA QVFPBEQ VG'F NYY ZRZRF! V jnf va n freire, evtug? naq NYY BS GUR PUNAARYF jrer whfg #nzbat-hf-fghss. V-V fubjrq zl punzcvba g-fuveg gb zl tveysevraq naq g-gur ybtb V syvccrq vg naq V fnvq \"url onor, jura gur ybtb vf fhf UNUN QVAT QVAT QVAT QVAT QVAT QVAT QVAT QV QV QVAT\" V ybbxrq ng n genfupna naq fnvq \"GUNG'F N OVG FHFFL\" V ybbxrq ng gur sver nynez V guvax bs na nfgebanhgf uryzrg naq V tb \"SVER NYNEZ? ZBER YVXR FHF NYNEZ\" NNNNNNNNNNNNNNUTRFST\n",
            "GHCD DCGHWBU OPCIH OACBU IG! W'A HWFSR CT GSSWBU WH! AM TFWSBRG CB HWYHCY GSBR AS ASASG, CB RWGQCFR WH'G OZZ ASASG! W kog wb o gsfjsf, fwuvh? obr OZZ CT HVS QVOBBSZG ksfs xigh #oacbu-ig-ghitt. W-W gvcksr am qvoadwcb h-gvwfh hc am uwfztfwsbr obr h-hvs zcuc W tzwddsr wh obr W gowr \"vsm pops, kvsb hvs zcuc wg gig VOVO RWBU RWBU RWBU RWBU RWBU RWBU RWBU RW RW RWBU\" W zccysr oh o hfogvqob obr gowr \"HVOH'G O PWH GIGGM\" W zccysr oh hvs twfs ozofa W hvwby ct ob oghfcboihg vszash obr W uc \"TWFS OZOFA? ACFS ZWYS GIG OZOFA\" OOOOOOOOOOOOOOVUSGTU\n",
            "HIDE EDHIXCV PQDJI PBDCV JH! X'B IXGTS DU HTTXCV XI! BN UGXTCSH DC IXZIDZ HTCS BT BTBTH, DC SXHRDGS XI'H PAA BTBTH! X lph xc p htgktg, gxvwi? pcs PAA DU IWT RWPCCTAH ltgt yjhi #pbdcv-jh-hijuu. X-X hwdlts bn rwpbexdc i-hwxgi id bn vxgaugxtcs pcs i-iwt advd X uaxeets xi pcs X hpxs \"wtn qpqt, lwtc iwt advd xh hjh WPWP SXCV SXCV SXCV SXCV SXCV SXCV SXCV SX SX SXCV\" X addzts pi p igphwrpc pcs hpxs \"IWPI'H P QXI HJHHN\" X addzts pi iwt uxgt papgb X iwxcz du pc phigdcpjih wtabti pcs X vd \"UXGT PAPGB? BDGT AXZT HJH PAPGB\" PPPPPPPPPPPPPPWVTHUV\n",
            "IJEF FEIJYDW QREKJ QCEDW KI! Y'C JYHUT EV IUUYDW YJ! CO VHYUDTI ED JYAJEA IUDT CU CUCUI, ED TYISEHT YJ'I QBB CUCUI! Y mqi yd q iuhluh, hywxj? qdt QBB EV JXU SXQDDUBI muhu zkij #qcedw-ki-ijkvv. Y-Y ixemut co sxqcfyed j-ixyhj je co wyhbvhyudt qdt j-jxu bewe Y vbyffut yj qdt Y iqyt \"xuo rqru, mxud jxu bewe yi iki XQXQ TYDW TYDW TYDW TYDW TYDW TYDW TYDW TY TY TYDW\" Y beeaut qj q jhqixsqd qdt iqyt \"JXQJ'I Q RYJ IKIIO\" Y beeaut qj jxu vyhu qbqhc Y jxyda ev qd qijhedqkji xubcuj qdt Y we \"VYHU QBQHC? CEHU BYAU IKI QBQHC\" QQQQQQQQQQQQQQXWUIVW\n",
            "JKFG GFJKZEX RSFLK RDFEX LJ! Z'D KZIVU FW JVVZEX ZK! DP WIZVEUJ FE KZBKFB JVEU DV DVDVJ, FE UZJTFIU ZK'J RCC DVDVJ! Z nrj ze r jvimvi, izxyk? reu RCC FW KYV TYREEVCJ nviv aljk #rdfex-lj-jklww. Z-Z jyfnvu dp tyrdgzfe k-jyzik kf dp xzicwizveu reu k-kyv cfxf Z wczggvu zk reu Z jrzu \"yvp srsv, nyve kyv cfxf zj jlj YRYR UZEX UZEX UZEX UZEX UZEX UZEX UZEX UZ UZ UZEX\" Z cffbvu rk r kirjytre reu jrzu \"KYRK'J R SZK JLJJP\" Z cffbvu rk kyv wziv rcrid Z kyzeb fw re rjkiferlkj yvcdvk reu Z xf \"WZIV RCRID? DFIV CZBV JLJ RCRID\" RRRRRRRRRRRRRRYXVJWX\n",
            "KLGH HGKLAFY STGML SEGFY MK! A'E LAJWV GX KWWAFY AL! EQ XJAWFVK GF LACLGC KWFV EW EWEWK, GF VAKUGJV AL'K SDD EWEWK! A osk af s kwjnwj, jayzl? sfv SDD GX LZW UZSFFWDK owjw bmkl #segfy-mk-klmxx. A-A kzgowv eq uzsehagf l-kzajl lg eq yajdxjawfv sfv l-lzw dgyg A xdahhwv al sfv A ksav \"zwq tstw, ozwf lzw dgyg ak kmk ZSZS VAFY VAFY VAFY VAFY VAFY VAFY VAFY VA VA VAFY\" A dggcwv sl s ljskzusf sfv ksav \"LZSL'K S TAL KMKKQ\" A dggcwv sl lzw xajw sdsje A lzafc gx sf skljgfsmlk zwdewl sfv A yg \"XAJW SDSJE? EGJW DACW KMK SDSJE\" SSSSSSSSSSSSSSZYWKXY\n",
            "LMHI IHLMBGZ TUHNM TFHGZ NL! B'F MBKXW HY LXXBGZ BM! FR YKBXGWL HG MBDMHD LXGW FX FXFXL, HG WBLVHKW BM'L TEE FXFXL! B ptl bg t lxkoxk, kbzam? tgw TEE HY MAX VATGGXEL pxkx cnlm #tfhgz-nl-lmnyy. B-B lahpxw fr vatfibhg m-labkm mh fr zbkeykbxgw tgw m-max ehzh B yebiixw bm tgw B ltbw \"axr utux, paxg max ehzh bl lnl ATAT WBGZ WBGZ WBGZ WBGZ WBGZ WBGZ WBGZ WB WB WBGZ\" B ehhdxw tm t mktlavtg tgw ltbw \"MATM'L T UBM LNLLR\" B ehhdxw tm max ybkx tetkf B mabgd hy tg tlmkhgtnml axefxm tgw B zh \"YBKX TETKF? FHKX EBDX LNL TETKF\" TTTTTTTTTTTTTTAZXLYZ\n",
            "MNIJ JIMNCHA UVION UGIHA OM! C'G NCLYX IZ MYYCHA CN! GS ZLCYHXM IH NCENIE MYHX GY GYGYM, IH XCMWILX CN'M UFF GYGYM! C qum ch u mylpyl, lcabn? uhx UFF IZ NBY WBUHHYFM qyly domn #ugiha-om-mnozz. C-C mbiqyx gs wbugjcih n-mbcln ni gs aclfzlcyhx uhx n-nby fiai C zfcjjyx cn uhx C mucx \"bys vuvy, qbyh nby fiai cm mom BUBU XCHA XCHA XCHA XCHA XCHA XCHA XCHA XC XC XCHA\" C fiieyx un u nlumbwuh uhx mucx \"NBUN'M U VCN MOMMS\" C fiieyx un nby zcly ufulg C nbche iz uh umnlihuonm byfgyn uhx C ai \"ZCLY UFULG? GILY FCEY MOM UFULG\" UUUUUUUUUUUUUUBAYMZA\n",
            "NOJK KJNODIB VWJPO VHJIB PN! D'H ODMZY JA NZZDIB DO! HT AMDZIYN JI ODFOJF NZIY HZ HZHZN, JI YDNXJMY DO'N VGG HZHZN! D rvn di v nzmqzm, mdbco? viy VGG JA OCZ XCVIIZGN rzmz epno #vhjib-pn-nopaa. D-D ncjrzy ht xcvhkdji o-ncdmo oj ht bdmgamdziy viy o-ocz gjbj D agdkkzy do viy D nvdy \"czt wvwz, rczi ocz gjbj dn npn CVCV YDIB YDIB YDIB YDIB YDIB YDIB YDIB YD YD YDIB\" D gjjfzy vo v omvncxvi viy nvdy \"OCVO'N V WDO NPNNT\" D gjjfzy vo ocz admz vgvmh D ocdif ja vi vnomjivpon czghzo viy D bj \"ADMZ VGVMH? HJMZ GDFZ NPN VGVMH\" VVVVVVVVVVVVVVCBZNAB\n",
            "OPKL LKOPEJC WXKQP WIKJC QO! E'I PENAZ KB OAAEJC EP! IU BNEAJZO KJ PEGPKG OAJZ IA IAIAO, KJ ZEOYKNZ EP'O WHH IAIAO! E swo ej w oanran, necdp? wjz WHH KB PDA YDWJJAHO sana fqop #wikjc-qo-opqbb. E-E odksaz iu ydwilekj p-odenp pk iu cenhbneajz wjz p-pda hkck E bhellaz ep wjz E owez \"dau xwxa, sdaj pda hkck eo oqo DWDW ZEJC ZEJC ZEJC ZEJC ZEJC ZEJC ZEJC ZE ZE ZEJC\" E hkkgaz wp w pnwodywj wjz owez \"PDWP'O W XEP OQOOU\" E hkkgaz wp pda bena whwni E pdejg kb wj wopnkjwqpo dahiap wjz E ck \"BENA WHWNI? IKNA HEGA OQO WHWNI\" WWWWWWWWWWWWWWDCAOBC\n",
            "PQLM MLPQFKD XYLRQ XJLKD RP! F'J QFOBA LC PBBFKD FQ! JV COFBKAP LK QFHQLH PBKA JB JBJBP, LK AFPZLOA FQ'P XII JBJBP! F txp fk x pbosbo, ofdeq? xka XII LC QEB ZEXKKBIP tbob grpq #xjlkd-rp-pqrcc. F-F peltba jv zexjmflk q-pefoq ql jv dfoicofbka xka q-qeb ildl F cifmmba fq xka F pxfa \"ebv yxyb, tebk qeb ildl fp prp EXEX AFKD AFKD AFKD AFKD AFKD AFKD AFKD AF AF AFKD\" F illhba xq x qoxpezxk xka pxfa \"QEXQ'P X YFQ PRPPV\" F illhba xq qeb cfob xixoj F qefkh lc xk xpqolkxrqp ebijbq xka F dl \"CFOB XIXOJ? JLOB IFHB PRP XIXOJ\" XXXXXXXXXXXXXXEDBPCD\n",
            "QRMN NMQRGLE YZMSR YKMLE SQ! G'K RGPCB MD QCCGLE GR! KW DPGCLBQ ML RGIRMI QCLB KC KCKCQ, ML BGQAMPB GR'Q YJJ KCKCQ! G uyq gl y qcptcp, pgefr? ylb YJJ MD RFC AFYLLCJQ ucpc hsqr #ykmle-sq-qrsdd. G-G qfmucb kw afykngml r-qfgpr rm kw egpjdpgclb ylb r-rfc jmem G djgnncb gr ylb G qygb \"fcw zyzc, ufcl rfc jmem gq qsq FYFY BGLE BGLE BGLE BGLE BGLE BGLE BGLE BG BG BGLE\" G jmmicb yr y rpyqfayl ylb qygb \"RFYR'Q Y ZGR QSQQW\" G jmmicb yr rfc dgpc yjypk G rfgli md yl yqrpmlysrq fcjkcr ylb G em \"DGPC YJYPK? KMPC JGIC QSQ YJYPK\" YYYYYYYYYYYYYYFECQDE\n",
            "RSNO ONRSHMF ZANTS ZLNMF TR! H'L SHQDC NE RDDHMF HS! LX EQHDMCR NM SHJSNJ RDMC LD LDLDR, NM CHRBNQC HS'R ZKK LDLDR! H vzr hm z rdqudq, qhfgs? zmc ZKK NE SGD BGZMMDKR vdqd itrs #zlnmf-tr-rstee. H-H rgnvdc lx bgzlohnm s-rghqs sn lx fhqkeqhdmc zmc s-sgd knfn H ekhoodc hs zmc H rzhc \"gdx azad, vgdm sgd knfn hr rtr GZGZ CHMF CHMF CHMF CHMF CHMF CHMF CHMF CH CH CHMF\" H knnjdc zs z sqzrgbzm zmc rzhc \"SGZS'R Z AHS RTRRX\" H knnjdc zs sgd ehqd zkzql H sghmj ne zm zrsqnmztsr gdklds zmc H fn \"EHQD ZKZQL? LNQD KHJD RTR ZKZQL\" ZZZZZZZZZZZZZZGFDREF\n",
            "STOP POSTING ABOUT AMONG US! I'M TIRED OF SEEING IT! MY FRIENDS ON TIKTOK SEND ME MEMES, ON DISCORD IT'S ALL MEMES! I was in a server, right? and ALL OF THE CHANNELS were just #among-us-stuff. I-I showed my champion t-shirt to my girlfriend and t-the logo I flipped it and I said \"hey babe, when the logo is sus HAHA DING DING DING DING DING DING DING DI DI DING\" I looked at a trashcan and said \"THAT'S A BIT SUSSY\" I looked at the fire alarm I think of an astronauts helmet and I go \"FIRE ALARM? MORE LIKE SUS ALARM\" AAAAAAAAAAAAAAHGESFG\n",
            "TUPQ QPTUJOH BCPVU BNPOH VT! J'N UJSFE PG TFFJOH JU! NZ GSJFOET PO UJLUPL TFOE NF NFNFT, PO EJTDPSE JU'T BMM NFNFT! J xbt jo b tfswfs, sjhiu? boe BMM PG UIF DIBOOFMT xfsf kvtu #bnpoh-vt-tuvgg. J-J tipxfe nz dibnqjpo u-tijsu up nz hjsmgsjfoe boe u-uif mphp J gmjqqfe ju boe J tbje \"ifz cbcf, xifo uif mphp jt tvt IBIB EJOH EJOH EJOH EJOH EJOH EJOH EJOH EJ EJ EJOH\" J mpplfe bu b usbtidbo boe tbje \"UIBU'T B CJU TVTTZ\" J mpplfe bu uif gjsf bmbsn J uijol pg bo btuspobvut ifmnfu boe J hp \"GJSF BMBSN? NPSF MJLF TVT BMBSN\" BBBBBBBBBBBBBBIHFTGH\n",
            "UVQR RQUVKPI CDQWV COQPI WU! K'O VKTGF QH UGGKPI KV! OA HTKGPFU QP VKMVQM UGPF OG OGOGU, QP FKUEQTF KV'U CNN OGOGU! K ycu kp c ugtxgt, tkijv? cpf CNN QH VJG EJCPPGNU ygtg lwuv #coqpi-wu-uvwhh. K-K ujqygf oa ejcorkqp v-ujktv vq oa iktnhtkgpf cpf v-vjg nqiq K hnkrrgf kv cpf K uckf \"jga dcdg, yjgp vjg nqiq ku uwu JCJC FKPI FKPI FKPI FKPI FKPI FKPI FKPI FK FK FKPI\" K nqqmgf cv c vtcujecp cpf uckf \"VJCV'U C DKV UWUUA\" K nqqmgf cv vjg hktg cncto K vjkpm qh cp cuvtqpcwvu jgnogv cpf K iq \"HKTG CNCTO? OQTG NKMG UWU CNCTO\" CCCCCCCCCCCCCCJIGUHI\n",
            "VWRS SRVWLQJ DERXW DPRQJ XV! L'P WLUHG RI VHHLQJ LW! PB IULHQGV RQ WLNWRN VHQG PH PHPHV, RQ GLVFRUG LW'V DOO PHPHV! L zdv lq d vhuyhu, uljkw? dqg DOO RI WKH FKDQQHOV zhuh mxvw #dprqj-xv-vwxii. L-L vkrzhg pb fkdpslrq w-vkluw wr pb jluoiulhqg dqg w-wkh orjr L iolsshg lw dqg L vdlg \"khb edeh, zkhq wkh orjr lv vxv KDKD GLQJ GLQJ GLQJ GLQJ GLQJ GLQJ GLQJ GL GL GLQJ\" L orrnhg dw d wudvkfdq dqg vdlg \"WKDW'V D ELW VXVVB\" L orrnhg dw wkh iluh dodup L wklqn ri dq dvwurqdxwv khophw dqg L jr \"ILUH DODUP? PRUH OLNH VXV DODUP\" DDDDDDDDDDDDDDKJHVIJ\n",
            "WXST TSWXMRK EFSYX EQSRK YW! M'Q XMVIH SJ WIIMRK MX! QC JVMIRHW SR XMOXSO WIRH QI QIQIW, SR HMWGSVH MX'W EPP QIQIW! M aew mr e wivziv, vmklx? erh EPP SJ XLI GLERRIPW aivi nywx #eqsrk-yw-wxyjj. M-M wlsaih qc gleqtmsr x-wlmvx xs qc kmvpjvmirh erh x-xli psks M jpmttih mx erh M wemh \"lic fefi, alir xli psks mw wyw LELE HMRK HMRK HMRK HMRK HMRK HMRK HMRK HM HM HMRK\" M pssoih ex e xvewlger erh wemh \"XLEX'W E FMX WYWWC\" M pssoih ex xli jmvi epevq M xlmro sj er ewxvsreyxw lipqix erh M ks \"JMVI EPEVQ? QSVI PMOI WYW EPEVQ\" EEEEEEEEEEEEEELKIWJK\n",
            "XYTU UTXYNSL FGTZY FRTSL ZX! N'R YNWJI TK XJJNSL NY! RD KWNJSIX TS YNPYTP XJSI RJ RJRJX, TS INXHTWI NY'X FQQ RJRJX! N bfx ns f xjwajw, wnlmy? fsi FQQ TK YMJ HMFSSJQX bjwj ozxy #frtsl-zx-xyzkk. N-N xmtbji rd hmfrunts y-xmnwy yt rd lnwqkwnjsi fsi y-ymj qtlt N kqnuuji ny fsi N xfni \"mjd gfgj, bmjs ymj qtlt nx xzx MFMF INSL INSL INSL INSL INSL INSL INSL IN IN INSL\" N qttpji fy f ywfxmhfs fsi xfni \"YMFY'X F GNY XZXXD\" N qttpji fy ymj knwj fqfwr N ymnsp tk fs fxywtsfzyx mjqrjy fsi N lt \"KNWJ FQFWR? RTWJ QNPJ XZX FQFWR\" FFFFFFFFFFFFFFMLJXKL\n",
            "YZUV VUYZOTM GHUAZ GSUTM AY! O'S ZOXKJ UL YKKOTM OZ! SE LXOKTJY UT ZOQZUQ YKTJ SK SKSKY, UT JOYIUXJ OZ'Y GRR SKSKY! O cgy ot g ykxbkx, xomnz? gtj GRR UL ZNK INGTTKRY ckxk payz #gsutm-ay-yzall. O-O ynuckj se ingsvout z-ynoxz zu se moxrlxoktj gtj z-znk rumu O lrovvkj oz gtj O ygoj \"nke hghk, cnkt znk rumu oy yay NGNG JOTM JOTM JOTM JOTM JOTM JOTM JOTM JO JO JOTM\" O ruuqkj gz g zxgynigt gtj ygoj \"ZNGZ'Y G HOZ YAYYE\" O ruuqkj gz znk loxk grgxs O znotq ul gt gyzxutgazy nkrskz gtj O mu \"LOXK GRGXS? SUXK ROQK YAY GRGXS\" GGGGGGGGGGGGGGNMKYLM\n"
          ]
        }
      ],
      "source": [
        "public class CaesarCipher {\n",
        "\n",
        "    public static String caesarEncoder(String message, int shift) { // a function that can shift a String any number of times, in this case shift =3, but can be so much more\n",
        "        String code = \"\"; // foundation for building the string\n",
        "        for (int i=0; i<message.length(); i++){ // while loop to loop over every char\n",
        "            char c = message.charAt(i); // gets the char at index i\n",
        "            if ('a'<=c && c<='z') { // checks if c is a letter\n",
        "                int ogPos = c - 'a'; // manipulating ASCII code of letters to shift the letters, first check the offset of the original char to a (its position within the alphabet)\n",
        "                int newPos = (ogPos + shift) % 26; // checking the new position after the shift\n",
        "                char newC = (char) ('a' + newPos); // getting the new char after the shift\n",
        "                code += newC; // add the new char to the string\n",
        "            } else if ('A'<=c && c<='Z'){\n",
        "                int ogPos = c - 'A'; // The same thing except with capital letters\n",
        "                int newPos = (ogPos + shift) % 26;\n",
        "                char newC = (char) ('A' + newPos);\n",
        "                code += newC; // add the new char to the string\n",
        "            } else { // if the char is not a letter\n",
        "                code += c; // then it just adds the original char to the string\n",
        "            }\n",
        "        }\n",
        "        return code; // return statement\n",
        "    }\n",
        "\n",
        "    public static void caesarEncoderAllShifts(String message) { // a function that can shift a message for all 26 shifts, getting all the possible original message, the human can then select the correct one\n",
        "        for (int i=0; i<26; i++){ // while loop to loop over every shift\n",
        "            System.out.println(caesarEncoder(message,i));// prints a possible message\n",
        "        }\n",
        "    }\n",
        "\n",
        "\n",
        "    public static void main(String[] args) {\n",
        "\n",
        "        String message1 = \"Ebiil Tloia!\";// All of the following messages can be decrypted with a shift of 3\n",
        "        String message2 = \"zlab zlab zlab\";\n",
        "\n",
        "        System.out.println(caesarEncoder(message1,3));\n",
        "        System.out.println(caesarEncoder(message2,3));\n",
        "        \n",
        "        // the following string is encoded with a certain shift, which I will proceed to use the caesarEncoderAllShifts to print out all the possible shifts...you'll know what it is when you see it\n",
        "        String message3 = \"ZAVW WVZAPUN HIVBA HTVUN BZ! P'T APYLK VM ZLLPUN PA! TF MYPLUKZ VU APRAVR ZLUK TL TLTLZ, VU KPZJVYK PA'Z HSS TLTLZ! P dhz pu h zlycly, ypnoa? huk HSS VM AOL JOHUULSZ dlyl qbza #htvun-bz-zabmm. P-P zovdlk tf johtwpvu a-zopya av tf npysmypluk huk a-aol svnv P mspwwlk pa huk P zhpk \\\"olf ihil, dolu aol svnv pz zbz OHOH KPUN KPUN KPUN KPUN KPUN KPUN KPUN KP KP KPUN\\\" P svvrlk ha h ayhzojhu huk zhpk \\\"AOHA'Z H IPA ZBZZF\\\" P svvrlk ha aol mpyl hshyt P aopur vm hu hzayvuhbaz olstla huk P nv \\\"MPYL HSHYT? TVYL SPRL ZBZ HSHYT\\\" HHHHHHHHHHHHHHONLZMN\";\n",
        "        caesarEncoderAllShifts(message3);\n",
        "    }\n",
        "}\n",
        "\n",
        "CaesarCipher.main(null);"
      ]
    }
  ],
  "metadata": {
    "colab": {
      "provenance": []
    },
    "kernelspec": {
      "display_name": "Java",
      "language": "java",
      "name": "java"
    },
    "language_info": {
      "codemirror_mode": "java",
      "file_extension": ".jshell",
      "mimetype": "text/x-java-source",
      "name": "java",
      "pygments_lexer": "java",
      "version": "11.0.20+8-post-Ubuntu-1ubuntu120.04"
    }
  },
  "nbformat": 4,
  "nbformat_minor": 0
}
