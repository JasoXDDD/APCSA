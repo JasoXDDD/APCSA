{
 "cells": [
  {
   "cell_type": "markdown",
   "metadata": {},
   "source": [
    "---\n",
    "comments: true\n",
    "layout: post\n",
    "title: Tri 2 Lesson\n",
    "---"
   ]
  },
  {
   "cell_type": "markdown",
   "metadata": {},
   "source": [
    "## Advanced usage in Collections\n",
    "\n",
    "### Nested Collections\n",
    "Collections can be nested, creating a collection of collections, for more freeform control, such as representing a 2D map with a 2D array."
   ]
  },
  {
   "cell_type": "code",
   "execution_count": 4,
   "metadata": {},
   "outputs": [
    {
     "name": "stdout",
     "output_type": "stream",
     "text": [
      "8 1 6 \n",
      "3 5 7 \n",
      "4 9 2 \n",
      "7\n",
      "0\n"
     ]
    }
   ],
   "source": [
    "public class NestedArrays {\n",
    "    public static void print2Darray(int[][] arr){\n",
    "        // function for printing arrays\n",
    "        for (int i=0;i<arr.length;i++){\n",
    "            for (int j=0;j<arr[i].length;j++){\n",
    "                System.out.print(arr[i][j]+\" \");\n",
    "            }\n",
    "            System.out.println();\n",
    "        }\n",
    "    }\n",
    "    public static void main(String[] args){\n",
    "        // Direct declaration of an array containing arrays\n",
    "        int[][] arr = {\n",
    "            {8,1,6},\n",
    "            {3,5,7},\n",
    "            {4,9,2}\n",
    "        };\n",
    "        print2Darray(arr);\n",
    "        System.out.println(arr[1][2]);//printing the value at [1][2] (7)\n",
    "        arr[1][2] = 0; //assigning a new value to inside the 2D array\n",
    "        System.out.println(arr[1][2]);\n",
    "    }\n",
    "}\n",
    "NestedArrays.main(null);"
   ]
  },
  {
   "cell_type": "markdown",
   "metadata": {},
   "source": [
    "### Popcorn hacks\n",
    "Create a program that sums the columns and the rows of the given nested array (should all be 15), then create a copy of the original array by looping through the original array and assigning the values to a new array."
   ]
  },
  {
   "cell_type": "code",
   "execution_count": null,
   "metadata": {},
   "outputs": [],
   "source": [
    "public class NestedArraysPopcorn {\n",
    "    public static void print2Darray(int[][] arr){\n",
    "        // function for printing arrays\n",
    "        for (int i=0;i<arr.length;i++){\n",
    "            for (int j=0;j<arr[i].length;j++){\n",
    "                System.out.print(arr[i][j]+\" \");\n",
    "            }\n",
    "            System.out.println();\n",
    "        }\n",
    "    }\n",
    "    public static void main(String[] args){\n",
    "        int[][] arr = {\n",
    "            {8,1,6},\n",
    "            {3,5,7},\n",
    "            {4,9,2}\n",
    "        };\n",
    "    }\n",
    "}\n",
    "NestedArrays.main(null);"
   ]
  },
  {
   "cell_type": "markdown",
   "metadata": {},
   "source": [
    "### Null values in collections\n",
    "null values are placeholders that are implemented when there is not any value that is inputed, you see it when we call the main method in our programs. It is automatically created when a new reference variable (such as an Integer) is created but no values have been assigned to it yet. It can also be created directly.\n",
    "\n",
    "Having null values in a collection will not immediately crash the program, however, it can cause a NullPointerException error if it is used carelessly. So it is important to learn how to identify and filter it."
   ]
  },
  {
   "cell_type": "code",
   "execution_count": null,
   "metadata": {},
   "outputs": [],
   "source": [
    "import java.util.ArrayList;\n",
    "public class NullValuesInArray {\n",
    "    public static void main(String[] args){\n",
    "        Integer[] arr = new Integer[10];//array of Integer\n",
    "        System.out.println(arr[3]);\n",
    "        // if the following line of code is ran, it will return a NullPointerException error\n",
    "        //System.out.println(1+arr[2]);\n",
    "        for (int i=0;i<arr.length;i++){\n",
    "            arr[i]=0;// sets the values in the arr to 0\n",
    "        }\n",
    "        System.out.println(1+arr[2]);\n",
    "    }\n",
    "}\n",
    "NullValuesInArray.main(null);//using null values in the main method"
   ]
  },
  {
   "cell_type": "markdown",
   "metadata": {},
   "source": [
    "### Popcorn hacks\n",
    "The given array has certain values set to null, loop through to set all null values to 0, then sum every value in the array."
   ]
  },
  {
   "cell_type": "code",
   "execution_count": null,
   "metadata": {},
   "outputs": [],
   "source": [
    "import java.util.ArrayList;\n",
    "public class NullValuesInArrayPopcorn {\n",
    "    public static void main(String[] args){\n",
    "        int[] arr = {\n",
    "            4,5,6,null,9,10,null,9,3,2,5,null\n",
    "        }; // you can look at the array, but it's more fun to do the problem without doing that\n",
    "    }\n",
    "}\n",
    "NullValuesInArray.main(null);"
   ]
  },
  {
   "cell_type": "markdown",
   "metadata": {},
   "source": [
    "### Performance and Complexities\n",
    "All of the functions used in collections takes a certain time complexity to do, and it may be sometimes better to use one value over the other.\n",
    "Here are some time complexities for commonly used methods\n",
    "\n",
    "|Method|Time Complexity|\n",
    "|-|-|\n",
    "|Initialization|O(n)|\n",
    "|Accessing (arr[i] get(i))|O(1)|\n",
    "|Assignment (arr[i]=a, set(i,a))|O(1)|\n",
    "|Sorting (Array.sort(arr), sort(Comparator))|O(nlog(n))|\n",
    "|Length (length, size())|O(1)|\n",
    "|copy (clone(), arraycopy())|O(n)|\n",
    "\n",
    "The space complexity of a collection is its size.\n",
    "\n",
    "Most of the time, the array is a versatile tool that can effeciently store and process values, however, sometimes we would want a different requirement. For example, when we want a storage to always be sorted, while we could use some sort of binary search method to find the best position to insert a value, there are just data structures, such as TreeSet, that maintains sorted status upon insertion. It's important to use the data structure that best suits your need in the right context."
   ]
  },
  {
   "cell_type": "markdown",
   "metadata": {},
   "source": [
    "### Real world applications of Collections\n",
    "In the context of an application or a database, a collection can allow for large amounts of values to be stored efficiently without creating large amounts of variables, storing what's usually a column of information in a single cell (I guess then, then that's also a collection of collection in of itself). It can be used for when you don't know how long that a list can be, you can modify the values in a collection easily also. However, the usage of many collections can add a lot of unnecessary weight on the database due to the extra spaces used, and it can be hard to keep track of what functions should be used for modifying certain values in a collection."
   ]
  }
 ],
 "metadata": {
  "kernelspec": {
   "display_name": "Java",
   "language": "java",
   "name": "java"
  },
  "language_info": {
   "codemirror_mode": "java",
   "file_extension": ".jshell",
   "mimetype": "text/x-java-source",
   "name": "java",
   "pygments_lexer": "java",
   "version": "11.0.20+8-post-Ubuntu-1ubuntu120.04"
  }
 },
 "nbformat": 4,
 "nbformat_minor": 2
}
