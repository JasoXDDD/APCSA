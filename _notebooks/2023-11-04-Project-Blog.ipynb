{
 "cells": [
  {
   "cell_type": "markdown",
   "metadata": {},
   "source": [
    "---\n",
    "toc: true\n",
    "comments: true\n",
    "layout: post\n",
    "title: VACTQ Project Blog\n",
    "description: Blog on our typing game project\n",
    "type: ccc\n",
    "authors: Haoxuan\n",
    "---"
   ]
  },
  {
   "cell_type": "markdown",
   "metadata": {},
   "source": [
    "Hi, In this blog I will explain how our game is functional and the development behind this our project."
   ]
  },
  {
   "cell_type": "markdown",
   "metadata": {},
   "source": [
    "# Plan\n",
    "Our project is a typing game where the player types out the phrase that is generated randomly to advance their car forward. The position of their car as well as the other player's car will be constantly sent and sent back with the backend server to create the multiplayer aspects of it."
   ]
  },
  {
   "cell_type": "markdown",
   "metadata": {},
   "source": [
    "# Frontend\n",
    "The majority of our game's frontend code can be found in the Ga.html and the typingsystem.js files. I will go over the parts one by one and explain how they work.\n",
    "\n",
    "## Ga.html"
   ]
  },
  {
   "cell_type": "code",
   "execution_count": null,
   "metadata": {
    "vscode": {
     "languageId": "html"
    }
   },
   "outputs": [],
   "source": [
    "<!DOCTYPE html>\n",
    "<html lang=\"en\">\n",
    "<head>\n",
    "    <meta charset=\"UTF-8\">\n",
    "    <meta name=\"viewport\" content=\"width=device-width, initial-scale=0\">\n",
    "    <title>Word Typing Game</title>\n",
    "    <style>\n",
    "        body {\n",
    "            font-family: Arial, sans-serif;\n",
    "            text-align: center;\n",
    "        }\n",
    "\n",
    "        .character {\n",
    "            position: absolute;\n",
    "            top: 290px;\n",
    "            left: 100px;\n",
    "            width: 100px; /* Adjust the width as needed */\n",
    "            height: auto; /* Maintain aspect ratio */\n",
    "            transition: left 3s linear; /* Slow initial pace */\n",
    "            transform: rotate(-0deg);\n",
    "            z-index: 1;\n",
    "        }\n",
    "        @import url('https://fonts.googleapis.com/css2?family=Roboto:wght@300&display=swap');\n",
    "        h2 {\n",
    "            margin: 10px 0;\n",
    "            font-size: 40px;\n",
    "        }\n",
    "        .textbox {\n",
    "            font-size: 25px;\n",
    "            width: 50%;\n",
    "            padding: 12px;\n",
    "            margin: 8px 0 30px;\n",
    "            box-sizing: border-box;\n",
    "            border-radius: 4px;\n",
    "            text-align: center;\n",
    "            z-index: 100;\n",
    "        }\n",
    "    </style>\n",
    "    <style id=\"INLINE_PEN_STYLESHEET_ID\">\n",
    "      body {\n",
    "        padding: 0;\n",
    "        margin: 0;\n",
    "      }\n",
    "      \n",
    "      .link {\n",
    "        padding: 0 0px;\n",
    "      }\n",
    "      \n",
    "      .container {\n",
    "        width: 100%;\n",
    "        height: 32.6vw;\n",
    "        background: url('https://t3.ftcdn.net/jpg/03/38/86/46/360_F_338864640_S2uVXvpn7ZnilgD8WTxNCRowHt20BL7T.jpg') repeat-x;\n",
    "        background-size: 70%;\n",
    "        animation: scroll-anim 50s linear infinite;\n",
    "      }\n",
    "      \n",
    "      .container::after {\n",
    "        content: \"\";\n",
    "        margin-top: 111px;\n",
    "        width: 100%;\n",
    "        height: 52.6vw;\n",
    "        position: absolute;\n",
    "        background: url('https://static.vecteezy.com/system/resources/previews/023/454/129/original/empty-asphalt-road-four-lanes-in-isolated-on-transparent-background-straight-road-line-png.png') repeat-x;\n",
    "        background-size: 90%;\n",
    "        animation: scroll-anim 4s linear infinite;\n",
    "        margin-left:-800px;\n",
    "      }\n",
    "      \n",
    "      \n",
    "      @keyframes scroll-anim {\n",
    "        100% {\n",
    "          background-position: -1000% 0;\n",
    "        }\n",
    "      }\n",
    "    </style>\n",
    "  \n",
    "  \n",
    "  </head>\n"
   ]
  },
  {
   "cell_type": "markdown",
   "metadata": {},
   "source": [
    "This is the header to our code. It includes css for the various items within our page:\n",
    "- The character class refers to the Player Characters (The cars)\n",
    "- The h2 class refers to the text that the players are instructed to type\n",
    "- The textbox class refers to the textbox the players type in\n",
    "- the container is the background in which the characters move in\n",
    "- the container::after class is the road that the characters drive on. It has a scrolling animation where it constantly moves to the left"
   ]
  },
  {
   "cell_type": "code",
   "execution_count": null,
   "metadata": {
    "vscode": {
     "languageId": "html"
    }
   },
   "outputs": [],
   "source": [
    "<body>\n",
    "    <img src=\"https://static.vecteezy.com/system/resources/previews/019/055/307/original/sport-car-isolated-on-transparent-background-3d-rendering-illustration-png.png\" id=\"character0\" alt=\"Character\" class=\"character\" style=\"top:430px\">\n",
    "    <img src=\"https://static.vecteezy.com/system/resources/previews/019/055/307/original/sport-car-isolated-on-transparent-background-3d-rendering-illustration-png.png\" id=\"character1\" alt=\"Character\" class=\"character\" style=\"top:530px\">\n",
    "    <img src=\"https://static.vecteezy.com/system/resources/previews/019/055/307/original/sport-car-isolated-on-transparent-background-3d-rendering-illustration-png.png\" id=\"character2\" alt=\"Character\" class=\"character\" style=\"top:630px\">\n",
    "    <img src=\"https://static.vecteezy.com/system/resources/previews/019/055/307/original/sport-car-isolated-on-transparent-background-3d-rendering-illustration-png.png\" id=\"character3\" alt=\"Character\" class=\"character\"  style=\"top:730px\">\n",
    "\n",
    "    <h2 id=\"typing-text\">Loading...</h2>\n",
    "    <input id=\"typing-box\"class=\"textbox\" placeholder=\"\">\n",
    "    <div class=\"container\"></div>"
   ]
  },
  {
   "cell_type": "markdown",
   "metadata": {},
   "source": [
    "Moving on to the body, this part in particular creates the elements on the page.\n",
    "- The imgs are the player characters, they use the character class and has unique ids assigned to them\n",
    "- The h2 is the text that we are supposed to be inputted. It has the id of typing-text\n",
    "- The input is the textbox that the players will type in. It uses the class textbox and has the id of typing-box\n",
    "- The container, both the background and the road, is imported with the container class"
   ]
  },
  {
   "cell_type": "code",
   "execution_count": null,
   "metadata": {
    "vscode": {
     "languageId": "html"
    }
   },
   "outputs": [],
   "source": [
    "<script src=\"typingsystem.js\"></script>"
   ]
  },
  {
   "cell_type": "markdown",
   "metadata": {},
   "source": [
    "This part imports code from typingsystem.js, which will now be covered"
   ]
  },
  {
   "cell_type": "markdown",
   "metadata": {},
   "source": [
    "## typingsystem.js"
   ]
  },
  {
   "cell_type": "code",
   "execution_count": null,
   "metadata": {
    "vscode": {
     "languageId": "javascript"
    }
   },
   "outputs": [],
   "source": [
    "const phrases = [\"public class HelloWorld {\",\n",
    "    \"public static void main(String[] args) {\",\n",
    "    \"System.out.println(\\\"Hello, World!\\\");\",\n",
    "    \"int num1 = 10, num2 = 20, sum;\",\n",
    "    \"sum = num1 + num2;\",\n",
    "    \"System.out.println(\\\"Sum of these numbers: \\\" + sum);\",\n",
    "    \"double num = -10.5;\",\n",
    "    \"double result;\",\n",
    "    \"result = Math.abs(num);\",\n",
    "    \"System.out.println(\\\"The absolute value of \\\" + num + \\\" is: \\\" + result);\",\n",
    "    \"int[] numbers = new int[10];\",\n",
    "    \"for (int i = 0; i < numbers.length; i++) {\",\n",
    "    \"numbers[i] = i + 1;\",\n",
    "    \"System.out.println(numbers[i]);\",\n",
    "    \"String str1 = \\\"Java\\\", str2 = \\\"Programming\\\";\",\n",
    "    \"String str3 = str1.concat(str2);\",\n",
    "    \"public class HelloWorld {\",\n",
    "    \"public static void main(String[] args) {\",\n",
    "    \"System.out.println(\\\"Hello, World!\\\");\",\n",
    "    \"int num1 = 10, num2 = 20, sum;\",\n",
    "    \"sum = num1 + num2;\",\n",
    "    \"System.out.println(\\\"Sum of these numbers: \\\" + sum);\",\n",
    "    \"int[] arr = new int[10];\",\n",
    "    \"for(int i = 0; i < arr.length; i++) {\",\n",
    "    \"arr[i] = i * 2;\",\n",
    "    \"System.out.println(arr[i]);\",\n",
    "    \"}\",\n",
    "    \"String str = \\\"Hello World\\\";\",\n",
    "    \"str = str.toUpperCase();\",\n",
    "    \"System.out.println(str);\",\n",
    "    \"try {\",\n",
    "    \"File file = new File(\\\"file.txt\\\");\",\n",
    "    \"Scanner scanner = new Scanner(file);\",\n",
    "    \"} catch (FileNotFoundException e) {\",\n",
    "    \"e.printStackTrace();\",\n",
    "    \"public class HelloWorld {\",\n",
    "    \"public static void main(String[] args) {\",\n",
    "    \"System.out.println(\\\"Hello, World!\\\");\",\n",
    "    \"int num1 = 10;\",\n",
    "    \"double num2 = 15.5;\",\n",
    "    \"char myChar = 'a';\",\n",
    "    \"boolean myBoolean = true;\",\n",
    "    \"String myString = \\\"Hello\\\";\",\n",
    "    \"int[] myArray = new int[10];\",\n",
    "    \"myArray[0] = 5;\",\n",
    "    \"for (int i = 0; i < 10; i++) {\",\n",
    "    \"System.out.println(i);\",\n",
    "    \"if (num1 > num2) {\",\n",
    "    \"System.out.println(\\\"num1 is larger\\\");\",\n",
    "    \"} else {\",\n",
    "    \"System.out.println(\\\"num2 is larger\\\");\",\n",
    "    \"ArrayList<String> myList = new ArrayList<String>();\",\n",
    "    \"myList.add(\\\"Hello\\\");\",\n",
    "    \"myList.add(\\\"World\\\");\",\n",
    "    \"for (String str : myList) {\",\n",
    "    \"System.out.println(str);\",\n",
    "    \"try {\",\n",
    "    \"int result = num1 / 0;\",\n",
    "    \"} catch (ArithmeticException e) {\",\n",
    "    \"e.printStackTrace();\",\n",
    "    \"} finally {\",\n",
    "    \"System.out.println(\\\"Done\\\");\",\n",
    "    \"public void myMethod() {\",\n",
    "    \"System.out.println(\\\"My Method\\\");\",\n",
    "    \"return;\"] // All possible phrases that can be generated\n",
    "const typingText = document.getElementById(\"typing-text\"); // The text the players are supposed to type\n",
    "const typingBox = document.getElementById(\"typing-box\"); // The textbox that the players type in\n",
    "currentPhrase = \"Loading...\"; // The current phrase that is in the typingText\n",
    "const url = \"localhost:8085\"; // the URL that the backend refers to\n",
    "currentCar = 4; // The car that we are supposed to be controlling\n",
    "localPos = 100; // The position of the car"
   ]
  },
  {
   "cell_type": "markdown",
   "metadata": {},
   "source": [
    "The first part of the javascript file sets up the constants that will be used throughout the rest of the code\n",
    "- phrases is a list of all the possible phrases that the Player can type (it's a long list)\n",
    "- typingText and typingBox are the elements of the text we were supposed to type and the textbox, respectively\n",
    "- currentPhrase is the phrase that the player is currently typing\n",
    "- url is the link to our backend\n",
    "- currentCar is the car that this player will be controlling\n",
    "- localPos stores the current position of the car"
   ]
  },
  {
   "cell_type": "code",
   "execution_count": null,
   "metadata": {
    "vscode": {
     "languageId": "javascript"
    }
   },
   "outputs": [],
   "source": [
    "async function getAPIData() { // Function to get the players\n",
    "    try {\n",
    "        const response = await fetch(url+'/api/ptest/'); // getting the positions of the players from the backend\n",
    "        console.log(response);\n",
    "        const data = await response.json();\n",
    "\n",
    "        // Extract positions and store in a list\n",
    "        const positions = data.map(item => item.pos);\n",
    "\n",
    "        return positions;\n",
    "    } catch (error) {\n",
    "        console.error('Error:', error);\n",
    "    }\n",
    "}\n",
    "\n",
    "//Figure out which car to be. First one to be vacant should be chosen\n",
    "async function chooseCar() {\n",
    "    positions = await getAPIData(); // calls getAPIData to get the positions of the cares\n",
    "    for(i = 0; i < 4; i++) {\n",
    "        if(positions[i] == -1) { // if there's a car that's available, then the user takes control of that car (currentCar is set to the index of the available car)\n",
    "            currentCar = i;\n",
    "            console.log(currentCar);\n",
    "            break;\n",
    "        }\n",
    "    }\n",
    "}\n",
    "chooseCar();"
   ]
  },
  {
   "cell_type": "markdown",
   "metadata": {},
   "source": [
    "The getAPIData function gets all the values in the pos column from the ptest database and returns it.\n",
    "It has an error catching option in case something goes wrong.\n",
    "\n",
    "The chooseCar function figures out which car the player will control.\n",
    "It first calls getAPIData to get all the positions of the cars\n",
    "then it loops through indices from 0 to 3 and checks if the car is available, indicated by the pos value being -1\n",
    "When it finds a car satisfying that requirement, it sets currentCar to that index, logs the index, and ends the program\n",
    "\n",
    "The chooseCar function is then called to actually choose the car."
   ]
  },
  {
   "cell_type": "code",
   "execution_count": null,
   "metadata": {
    "vscode": {
     "languageId": "javascript"
    }
   },
   "outputs": [],
   "source": [
    "async function getAPIData2() { //function for extracting the phrases from backend\n",
    "    try {\n",
    "        const response = await fetch(url+'/api/phrases/');\n",
    "        console.log(response);\n",
    "        const data = await response.json();\n",
    "\n",
    "        // Extract phrases and return it\n",
    "        const phrases = data.map(item => item.joke);\n",
    "\n",
    "        return phrases;\n",
    "    } catch (error) {\n",
    "        console.error('Error:', error);\n",
    "    }\n",
    "}\n",
    "\n",
    "async function getPhrases() {// set the phrases to the newly fetched phrases from backend\n",
    "    phrases = await getAPIData2();\n",
    "}\n",
    "\n",
    "getPhrases();"
   ]
  },
  {
   "cell_type": "markdown",
   "metadata": {},
   "source": [
    "The getAPIData2 function is similiar to the getAPIData function in that it fetches data from the backend.\n",
    "However, it extracts all the phrases in the jokes table\n",
    "\n",
    "getPhrases sets phrases to the phrases that is fetched from the backend.\n",
    "\n",
    "then, the getPhrases function is actually called."
   ]
  },
  {
   "cell_type": "code",
   "execution_count": null,
   "metadata": {
    "vscode": {
     "languageId": "javascript"
    }
   },
   "outputs": [],
   "source": [
    "function nextPhrase() { //function for getting a new typingText\n",
    "    randomIndex = Math.floor(Math.random() * phrases.length);\n",
    "    typingText.textContent = phrases[randomIndex];\n",
    "}"
   ]
  },
  {
   "cell_type": "markdown",
   "metadata": {},
   "source": [
    "The nextPhrases function generates a random index within phrases and then sets typingText's text to it."
   ]
  },
  {
   "cell_type": "code",
   "execution_count": null,
   "metadata": {
    "vscode": {
     "languageId": "javascript"
    }
   },
   "outputs": [],
   "source": [
    "async function updatePosition(index, pos) { // function for updating the position of the players\n",
    "    try {\n",
    "        const response = await fetch(url+`/api/ptest/move/${index}/${pos}/`, {\n",
    "            method: 'POST', // or 'PUT'\n",
    "            headers: {\n",
    "                'Content-Type': 'application/json',\n",
    "            },\n",
    "        });\n",
    "        if (!response.ok) {\n",
    "            throw new Error(`HTTP error! status: ${response.status}`);\n",
    "        }\n",
    "        const data = await response.json();\n",
    "        console.log(data);\n",
    "        return data;\n",
    "    } catch (error) {\n",
    "        console.error('There has been a problem with your fetch operation:', error);\n",
    "    }\n",
    "}"
   ]
  },
  {
   "cell_type": "markdown",
   "metadata": {},
   "source": [
    "The updatePosition function posts the new position of the player's car onto the backend server.\n",
    "The data that is recieved is then returned\n",
    "if there is an error, the function creates an error message."
   ]
  },
  {
   "cell_type": "code",
   "execution_count": null,
   "metadata": {
    "vscode": {
     "languageId": "javascript"
    }
   },
   "outputs": [],
   "source": [
    "function checkTypingBox() { //funtion for checking typingBox with typingText\n",
    "    if(typingBox.value == typingText.textContent) { // if they are equal, reset the typingBox and generate a new phrase.\n",
    "        typingBox.value = \"\";\n",
    "        nextPhrase();\n",
    "\n",
    "        //Update pos in api\n",
    "        localPos += 100;\n",
    "        updatePosition(currentPosition, localPos)\n",
    "    }\n",
    "}\n",
    "\n",
    "typingBox.addEventListener(\"input\", checkTypingBox); // set checkTypingBox to run every time an input is made in the typingBox\n",
    "nextPhrase(); //Choose first phrase to start"
   ]
  },
  {
   "cell_type": "markdown",
   "metadata": {},
   "source": [
    "The checkTypingBox function checks whether the value in typingBox is the same as the text in typingText.\n",
    "If they are the same:\n",
    "- the contents of typingBox is reset\n",
    "- a new phrase is generated\n",
    "- the pos of the player is advanced by 100\n",
    "- the position is updated\n",
    "\n",
    "The checkTypingBox function is set to run everytime an input is made, or when the contents of the textBox is changed.\n",
    "\n",
    "Finally, the program generates a new phrase to start the game."
   ]
  },
  {
   "cell_type": "markdown",
   "metadata": {},
   "source": [
    "## Ga.html (continued)"
   ]
  },
  {
   "cell_type": "code",
   "execution_count": null,
   "metadata": {
    "vscode": {
     "languageId": "javascript"
    }
   },
   "outputs": [],
   "source": [
    "class Player { // player class\n",
    "    constructor(index) {\n",
    "        this.progress = 0;\n",
    "        this.index = index;\n",
    "        console.log(index);\n",
    "    }\n",
    "    \n",
    "    getProgress() {\n",
    "      return this.progress;\n",
    "    }\n",
    "\n",
    "    update(positionData) {\n",
    "        this.progress = positionData[this.index];\n",
    "    }\n",
    "  }"
   ]
  },
  {
   "cell_type": "markdown",
   "metadata": {},
   "source": [
    "This class stores the different values that the players have, as well as several methods to access them\n",
    "progress is the position of the player, whilst index is the index of the player in the database (0-3)"
   ]
  },
  {
   "cell_type": "code",
   "execution_count": null,
   "metadata": {
    "vscode": {
     "languageId": "javascript"
    }
   },
   "outputs": [],
   "source": [
    "function moveCharacterToX(index, pos) { // changes a specific character to a specific index\n",
    "    document.getElementById(\"character\" + index).style.left = pos + \"px\";\n",
    "}"
   ]
  },
  {
   "cell_type": "markdown",
   "metadata": {},
   "source": [
    "This function moves the player to a certain position by setting the left offset of the character specified with the index to the pos number of pixels"
   ]
  },
  {
   "cell_type": "code",
   "execution_count": null,
   "metadata": {
    "vscode": {
     "languageId": "javascript"
    }
   },
   "outputs": [],
   "source": [
    "//Customizable game rules\n",
    "const numberOfPlayers = 4;\n",
    "const tickRate = 3000;\n",
    "\n",
    "//Initialize frontend player objects\n",
    "let players = [];\n",
    "for(let i = 0; i < numberOfPlayers; i++) {\n",
    "    let player = new Player(i);\n",
    "    players.push(player);\n",
    "}"
   ]
  },
  {
   "cell_type": "markdown",
   "metadata": {},
   "source": [
    "This part initializes some constants for the game\n",
    "- numberOfPlayers is set to 4, which is the number of players in total\n",
    "- tickRate controlls the speed at which the game will update with each player's position, in this case 3000 miliseconds or 3 seconds\n",
    "- the loop initializes 4 Player objects with indices 0 through 3, and add them to a list players"
   ]
  },
  {
   "cell_type": "code",
   "execution_count": null,
   "metadata": {
    "vscode": {
     "languageId": "javascript"
    }
   },
   "outputs": [],
   "source": [
    "function updatePositions(positionData) { // update the position of all players\n",
    "    for(let i = 0; i < numberOfPlayers; i++) {\n",
    "        players[i].update(positionData);\n",
    "    }\n",
    "}"
   ]
  },
  {
   "cell_type": "markdown",
   "metadata": {},
   "source": [
    "This function updates the position of all players by calling the Player.update() method on every single player"
   ]
  },
  {
   "cell_type": "code",
   "execution_count": null,
   "metadata": {
    "vscode": {
     "languageId": "javascript"
    }
   },
   "outputs": [],
   "source": [
    "//Game Loop\n",
    "async function tick() {\n",
    "    data = await getAPIData(); // get current position of all cars\n",
    "    //console.log(data);\n",
    "    updatePositions(data); // update the position of all cars on client end\n",
    "\n",
    "    //Update cars animations\n",
    "    for(let i = 0; i < numberOfPlayers; i++) { // for all cars\n",
    "      if(players[i].getProgress() != -1) { // if the car is being controlled\n",
    "        moveCharacterToX(i, players[i].getProgress()); // move the car\n",
    "      } else {\n",
    "        moveCharacterToX(i, 100); // if the car is not being contrlled, still set position to 100px\n",
    "      }\n",
    "    }\n",
    "}\n",
    "\n",
    "let interval = setInterval(tick, tickRate);"
   ]
  },
  {
   "cell_type": "markdown",
   "metadata": {},
   "source": [
    "The game loop of the entire game. This function will:\n",
    "- get the current position of all cars using the getAPIData function from typingsystem.js\n",
    "- update the position of all cars\n",
    "- for all cars:\n",
    "    - if it is being controlled (indicated by a nonnegative pos value), the character is moved to that position\n",
    "    - if it is not being controlled (pos = -1), the character's position is set to 100\n",
    "\n",
    "The game loop is then set to run every 3 seconds by using the tickRate variable\n",
    "\n",
    "This concludes the frontend portion of the game"
   ]
  },
  {
   "cell_type": "markdown",
   "metadata": {},
   "source": [
    "# Backend\n",
    "During the process of developing the backend, we were met with more issues than the frontend. We still haven't deployed our API yet. However, our game can still work in localhost settings.\n",
    "Our backend uses Spring to create a working repository. It actually works pretty closely to Python, however, it is definitely more abstract, but easier to use if you know what you are doing.\n",
    "\n",
    "## PTest.java\n",
    "The PTest API stores the position of all players"
   ]
  },
  {
   "cell_type": "code",
   "execution_count": null,
   "metadata": {
    "vscode": {
     "languageId": "java"
    }
   },
   "outputs": [],
   "source": [
    "@Data  // Annotations to simplify writing code (ie constructors, setters)\n",
    "@NoArgsConstructor\n",
    "@AllArgsConstructor\n",
    "@Entity // Annotation to simplify creating an entity, which is a lightweight persistence domain object. Typically, an entity represents a table in a relational database, and each entity instance corresponds to a row in that table.\n",
    "public class PTest {\n",
    "    @Id\n",
    "    @GeneratedValue(strategy = GenerationType.AUTO)\n",
    "    private Long id;\n",
    "\n",
    "    @Column(unique=true)\n",
    "    private String playerName;\n",
    "\n",
    "    private int pos;\n",
    "    //private int pos;\n",
    "\n",
    "    // starting players\n",
    "    public static String[] init() {\n",
    "        final String[] playerNames2 = {\n",
    "            \"P1\",\n",
    "            \"P2\",\n",
    "            \"P3\",\n",
    "            \"P4\"\n",
    "        };\n",
    "        return playerNames2;\n",
    "    }\n",
    "}"
   ]
  },
  {
   "cell_type": "markdown",
   "metadata": {},
   "source": [
    "This represents the \"database\" portion of the backend API. The program basically does this:\n",
    "- Generates the id column\n",
    "- Add a column of playerNames\n",
    "- Add another columns of pos\n",
    "- Initializes the database with 4 players"
   ]
  },
  {
   "cell_type": "markdown",
   "metadata": {},
   "source": [
    "## PTestApiController.java"
   ]
  },
  {
   "cell_type": "code",
   "execution_count": null,
   "metadata": {
    "vscode": {
     "languageId": "java"
    }
   },
   "outputs": [],
   "source": [
    "@RestController // annotation to simplify the creation of RESTful web services\n",
    "@RequestMapping(\"/api/ptest\")  // all requests in file begin with this URI\n",
    "@CrossOrigin(origins = \"*\", allowedHeaders = \"*\")  // Enable CORS for all origins\n",
    "public class PTestApiController {\n",
    "\n",
    "    // Autowired enables Control to connect URI request and POJO Object to easily for Database CRUD operations\n",
    "    @Autowired\n",
    "    private PTestJpaRepository repository;\n",
    "\n",
    "    /* GET List of Jokes\n",
    "     * @GetMapping annotation is used for mapping HTTP GET requests onto specific handler methods.\n",
    "     */\n",
    "    @GetMapping(\"/\")\n",
    "    public ResponseEntity<List<PTest>> getJokes() {\n",
    "        // ResponseEntity returns List of Jokes provide by JPA findAll()\n",
    "        return new ResponseEntity<>( repository.findAll(), HttpStatus.OK);\n",
    "    }\n",
    "    // Updates position\n",
    "    @PostMapping(\"/move/{id}/{newPos}\")\n",
    "    public ResponseEntity<PTest> setPos(@PathVariable long id, @PathVariable int newPos) {\n",
    "        /* \n",
    "        * Optional (below) is a container object which helps determine if a result is present. \n",
    "        * If a value is present, isPresent() will return true\n",
    "        * get() will return the value.\n",
    "        */\n",
    "        Optional<PTest> optional = repository.findById(id);\n",
    "        if (optional.isPresent()) {  // Good ID\n",
    "            PTest joke = optional.get();  // value from findByID\n",
    "            joke.setPos(newPos); // increment value\n",
    "            repository.save(joke);  // save entity\n",
    "            return new ResponseEntity<>(joke, HttpStatus.OK);  // OK HTTP response: status code, headers, and body\n",
    "        }\n",
    "        // Bad ID\n",
    "        return new ResponseEntity<>(HttpStatus.BAD_REQUEST);  // Failed HTTP response: status code, headers, and body\n",
    "    }\n",
    "}"
   ]
  },
  {
   "cell_type": "markdown",
   "metadata": {},
   "source": [
    "This is the CRUD part of the API.\n",
    "the main mapping of this api is /api/ptest, it represents the GET method.\n",
    "the POST method of the API is mapped to /api/ptest/move/{id}/{newPos}, taking in the two variables as parameters. It will:\n",
    "- get the player corresponding to the id from the database\n",
    "- change the position of that player to the given newPos\n",
    "- save the new player in the database\n",
    "- during all of that, if there was an error, an BAD_REQUEST error will be sent back"
   ]
  },
  {
   "cell_type": "markdown",
   "metadata": {},
   "source": [
    "## Jokes.java\n",
    "We reused the jokes API as a basis for our API as well as repurposing it to store the phrases that are present."
   ]
  },
  {
   "cell_type": "code",
   "execution_count": null,
   "metadata": {
    "vscode": {
     "languageId": "java"
    }
   },
   "outputs": [],
   "source": [
    "@Data  // Annotations to simplify writing code (ie constructors, setters)\n",
    "@NoArgsConstructor\n",
    "@AllArgsConstructor\n",
    "@Entity // Annotation to simplify creating an entity, which is a lightweight persistence domain object. Typically, an entity represents a table in a relational database, and each entity instance corresponds to a row in that table.\n",
    "public class Jokes {\n",
    "    @Id\n",
    "    @GeneratedValue(strategy = GenerationType.AUTO)\n",
    "    private Long id;\n",
    "\n",
    "    @Column(unique=true)\n",
    "    private String joke;\n",
    "\n",
    "\n",
    "\n",
    "    // starting jokes\n",
    "    public static String[] init() {\n",
    "        final String[] jokesArray = {\n",
    "            \"public class HelloWorld {\",\n",
    "            \"public static void main(String[] args) {\",\n",
    "            \"System.out.println(\\\"Hello, World!\\\");\",\n",
    "            \"int num1 = 10, num2 = 20, sum;\",\n",
    "            \"sum = num1 + num2;\",\n",
    "            \"System.out.println(\\\"Sum of these numbers: \\\" + sum);\",\n",
    "            \"double num = -10.5;\",\n",
    "            \"double result;\",\n",
    "            \"result = Math.abs(num);\",\n",
    "            \"System.out.println(\\\"The absolute value of \\\" + num + \\\" is: \\\" + result);\",\n",
    "            \"int[] numbers = new int[10];\",\n",
    "            \"for (int i = 0; i < numbers.length; i++) {\",\n",
    "            \"numbers[i] = i + 1;\",\n",
    "            \"System.out.println(numbers[i]);\",\n",
    "            \"String str1 = \\\"Java\\\", str2 = \\\"Programming\\\";\",\n",
    "            \"String str3 = str1.concat(str2);\",\n",
    "            \"System.out.println(\\\"Resultant String: \\\" + str3);\",\n",
    "            \"public class HelloWorld {\",\n",
    "            \"public static void main(String[] args) {\",\n",
    "            \"System.out.println(\\\"Hello, World!\\\");\",\n",
    "            \"int num1 = 10, num2 = 20, sum;\",\n",
    "            \"sum = num1 + num2;\",\n",
    "            \"System.out.println(\\\"Sum of these numbers: \\\" + sum);\",\n",
    "            \"int[] arr = new int[10];\",\n",
    "            \"for(int i = 0; i < arr.length; i++) {\",\n",
    "            \"arr[i] = i * 2;\",\n",
    "            \"System.out.println(arr[i]);\",\n",
    "            \"}\",\n",
    "            \"String str = \\\"Hello World\\\";\",\n",
    "            \"str = str.toUpperCase();\",\n",
    "            \"System.out.println(str);\",\n",
    "            \"try {\",\n",
    "            \"File file = new File(\\\"file.txt\\\");\",\n",
    "            \"Scanner scanner = new Scanner(file);\",\n",
    "            \"} catch (FileNotFoundException e) {\",\n",
    "            \"e.printStackTrace();\",\n",
    "            \"public class HelloWorld {\",\n",
    "            \"public static void main(String[] args) {\",\n",
    "            \"System.out.println(\\\"Hello, World!\\\");\",\n",
    "            \"int num1 = 10;\",\n",
    "            \"double num2 = 15.5;\",\n",
    "            \"char myChar = 'a';\",\n",
    "            \"boolean myBoolean = true;\",\n",
    "            \"String myString = \\\"Hello\\\";\",\n",
    "            \"int[] myArray = new int[10];\",\n",
    "            \"myArray[0] = 5;\",\n",
    "            \"for (int i = 0; i < 10; i++) {\",\n",
    "            \"System.out.println(i);\",\n",
    "            \"if (num1 > num2) {\",\n",
    "            \"System.out.println(\\\"num1 is larger\\\");\",\n",
    "            \"} else {\",\n",
    "            \"System.out.println(\\\"num2 is larger\\\");\",\n",
    "            \"ArrayList<String> myList = new ArrayList<String>();\",\n",
    "            \"myList.add(\\\"Hello\\\");\",\n",
    "            \"myList.add(\\\"World\\\");\",\n",
    "            \"for (String str : myList) {\",\n",
    "            \"System.out.println(str);\",\n",
    "            \"try {\",\n",
    "            \"int result = num1 / 0;\",\n",
    "            \"} catch (ArithmeticException e) {\",\n",
    "            \"e.printStackTrace();\",\n",
    "            \"} finally {\",\n",
    "            \"System.out.println(\\\"Done\\\");\",\n",
    "            \"public void myMethod() {\",\n",
    "            \"System.out.println(\\\"My Method\\\");\",\n",
    "            \"return;\"\n",
    "        };\n",
    "        return jokesArray;\n",
    "    }\n",
    "}"
   ]
  },
  {
   "cell_type": "markdown",
   "metadata": {},
   "source": [
    "This is, again, the database and classes portion of the API, here, we create:\n",
    "- ids of the diffrent phrases\n",
    "- the jokes column for different phrases\n",
    "- initializes the database with many phrases shown in the list above"
   ]
  },
  {
   "cell_type": "markdown",
   "metadata": {},
   "source": [
    "## JokesApiController.java"
   ]
  },
  {
   "cell_type": "code",
   "execution_count": null,
   "metadata": {
    "vscode": {
     "languageId": "java"
    }
   },
   "outputs": [],
   "source": [
    "@RestController // annotation to simplify the creation of RESTful web services\n",
    "@RequestMapping(\"/api/phrases\")  // all requests in file begin with this URI\n",
    "public class JokesApiController {\n",
    "\n",
    "    // Autowired enables Control to connect URI request and POJO Object to easily for Database CRUD operations\n",
    "    @Autowired\n",
    "    private JokesJpaRepository repository;\n",
    "\n",
    "    /* GET List of Phrases\n",
    "     * @GetMapping annotation is used for mapping HTTP GET requests onto specific handler methods.\n",
    "     */\n",
    "    @GetMapping(\"/\")\n",
    "    public ResponseEntity<List<Jokes>> getJokes() {\n",
    "        // ResponseEntity returns List of Jokes provide by JPA findAll()\n",
    "        return new ResponseEntity<>( repository.findAll(), HttpStatus.OK);\n",
    "    }\n",
    "}"
   ]
  },
  {
   "cell_type": "markdown",
   "metadata": {},
   "source": [
    "The CRUD part of the api, there's only one endpoint, the GET method, which just returns the entire database"
   ]
  }
 ],
 "metadata": {
  "language_info": {
   "name": "python"
  }
 },
 "nbformat": 4,
 "nbformat_minor": 2
}
