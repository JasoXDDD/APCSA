{
 "cells": [
  {
   "cell_type": "markdown",
   "metadata": {},
   "source": [
    "---\n",
    "layout: post\n",
    "title: Unit 4 Lesson\n",
    "toc: true\n",
    "comments: true\n",
    "description: Lesson for APCSA Unit 4\n",
    "courses: { csa: {week: 8} }\n",
    "type: tangibles\n",
    "---"
   ]
  },
  {
   "cell_type": "markdown",
   "metadata": {},
   "source": [
    "# Iteration\n",
    "According to CollegeBoard, **Iteration** is a way to simplify code that would otherwise be repeated many times in succession. Using loops, we can finally implement complex algorithms and solutions to common problems that we weren't able to before.\n",
    "\n",
    "Iteration is repeating sequences to simplify code of advanced algorithms\n",
    "\n",
    "Iteration accounts for **17.5%-22.5%** of the APCSA AP Exam"
   ]
  },
  {
   "cell_type": "markdown",
   "metadata": {},
   "source": [
    "# 4.1: WHILE LOOPS\n",
    "**Learning Objective**: Represent Iterative Processes using a <code>while</code> loop\n",
    "\n",
    "Question: What is a loop and what are some real life examples of this (Setting a Song to repeat on your music player)\n",
    "\n",
    "A loop is a part of code that repeats a block of code over and over\n",
    "\n",
    "You know the <code>i</code> variable that you use for while/for loops? It actually has a name, loop control variable"
   ]
  },
  {
   "cell_type": "code",
   "execution_count": null,
   "metadata": {
    "vscode": {
     "languageId": "java"
    }
   },
   "outputs": [],
   "source": [
    "int i = 0; // initialize loop control variable\n",
    "while (i < 10)  // checks the loop control variable\n",
    "{\n",
    "    System.out.println(\"Doing some code\");\n",
    "    i++;  // update the loop control variable\n",
    "}"
   ]
  },
  {
   "cell_type": "code",
   "execution_count": null,
   "metadata": {
    "vscode": {
     "languageId": "java"
    }
   },
   "outputs": [],
   "source": [
    "// Popcorn Hack: Simplify the code segment below\n",
    "int i = 0;\n",
    "System.out.println(i);\n",
    "i++;\n",
    "System.out.println(i);\n",
    "i++;\n",
    "System.out.println(i);\n",
    "i++;\n",
    "System.out.println(i);\n",
    "i++;\n",
    "System.out.println(i);\n",
    "i++;\n",
    "\n",
    "/* Hint:\n",
    "// while (condition) {\n",
    "\n",
    "}\n",
    "for (condition) {\n",
    "\n",
    "}\n",
    "*/"
   ]
  },
  {
   "cell_type": "code",
   "execution_count": null,
   "metadata": {
    "vscode": {
     "languageId": "java"
    }
   },
   "outputs": [],
   "source": [
    "int i = 0;\n",
    "while (i < 5) { System.out.println(i);\n",
    "i++;\n",
    "}"
   ]
  },
  {
   "cell_type": "markdown",
   "metadata": {},
   "source": [
    "## Infinite loop  \n",
    "An infinite loop is when a while loop always evaluates to true. avoid this when you can because it's probably not good for your computer. if this happens by accident, I recommend copying all code in the block and deleting the block. After you delete the code block, close and reopen the tab that the code block was in.\n",
    "\n",
    "**What's wrong with this code block?**\n",
    "\n",
    "It doesn't stop"
   ]
  },
  {
   "cell_type": "code",
   "execution_count": 1,
   "metadata": {
    "vscode": {
     "languageId": "java"
    }
   },
   "outputs": [],
   "source": [
    "while (true)\n",
    "{\n",
    "    System.out.print(\"CONTROL \");\n",
    "}\n",
    "// DO NOT RUN THE CODE"
   ]
  },
  {
   "cell_type": "markdown",
   "metadata": {},
   "source": [
    "## Do While loop\n",
    "  \n",
    "**What will this code block output?**"
   ]
  },
  {
   "cell_type": "code",
   "execution_count": null,
   "metadata": {
    "vscode": {
     "languageId": "java"
    }
   },
   "outputs": [],
   "source": [
    "// Quite shrimple\n",
    "int i = 0;\n",
    "do \n",
    "{\n",
    "    System.out.print(\"Quite shrimple. \");\n",
    "    i++;\n",
    "}\n",
    "while (i < -5);"
   ]
  },
  {
   "cell_type": "markdown",
   "metadata": {},
   "source": [
    "In a do while loop, it will run the \"do\" once before it reaches the \"while\", and at that point it will start to act like a while loop."
   ]
  },
  {
   "cell_type": "markdown",
   "metadata": {},
   "source": [
    "## For loop\n",
    "this is the standard structure of a for loop"
   ]
  },
  {
   "cell_type": "code",
   "execution_count": null,
   "metadata": {
    "vscode": {
     "languageId": "java"
    }
   },
   "outputs": [],
   "source": [
    "for (initialization; Boolean expression; update)\n",
    "{\n",
    "    System.out.println(\"Doing some code\");\n",
    "}"
   ]
  },
  {
   "cell_type": "markdown",
   "metadata": {},
   "source": [
    "Initialization will run at the start of the loop, boolean expression will get checked with every loop, and update runs after every loop.\n",
    "\n",
    "**How many times will this code print \"Doing some code?\"**\n",
    "\n",
    "5"
   ]
  },
  {
   "cell_type": "code",
   "execution_count": 2,
   "metadata": {
    "vscode": {
     "languageId": "java"
    }
   },
   "outputs": [
    {
     "name": "stdout",
     "output_type": "stream",
     "text": [
      "Doing some code\n",
      "Doing some code\n",
      "Doing some code\n",
      "Doing some code\n",
      "Doing some code\n"
     ]
    }
   ],
   "source": [
    "for (int num = 1; num <= 5; num++)\n",
    "{\n",
    "    System.out.println(\"Doing some code\");\n",
    "}"
   ]
  },
  {
   "cell_type": "markdown",
   "metadata": {},
   "source": [
    "In this code, it creates the variable *num* at the start of the loop, it checks if *num* is less than or equal to 5 after each loop, and it adds 1 to *num* after each loop."
   ]
  },
  {
   "cell_type": "markdown",
   "metadata": {},
   "source": [
    "## Enhanced for loop  \n",
    "this is essentially a javascript for loop, as it will iterate through a list and run code in the loop to each variable inside the list"
   ]
  },
  {
   "cell_type": "code",
   "execution_count": 3,
   "metadata": {
    "vscode": {
     "languageId": "java"
    }
   },
   "outputs": [
    {
     "name": "stdout",
     "output_type": "stream",
     "text": [
      "1 4 6 2 "
     ]
    }
   ],
   "source": [
    "int[] list = {1, 4, 6, 2};\n",
    "for (int j : list)\n",
    "{\n",
    "    System.out.print(j);\n",
    "    System.out.print(\" \");\n",
    "}"
   ]
  },
  {
   "cell_type": "markdown",
   "metadata": {},
   "source": [
    "## Break and Continue\n",
    "In java there are breaks, but there are also continues.\n",
    "\n",
    "### Break  \n",
    "Breaks, as you likely already know, end a loop. They tend to be used with an *if* statement\n",
    "\n",
    "**How many times will this code print \"Big guy?\"**\n",
    "\n",
    "5"
   ]
  },
  {
   "cell_type": "code",
   "execution_count": 4,
   "metadata": {
    "vscode": {
     "languageId": "java"
    }
   },
   "outputs": [],
   "source": [
    "int i = 0; \n",
    "while (i < 10) \n",
    "{\n",
    "    System.out.println(\"Big guy\");\n",
    "    i++;  \n",
    "    if (i == 5) {\n",
    "        break;\n",
    "    }\n",
    "}"
   ]
  },
  {
   "cell_type": "markdown",
   "metadata": {},
   "source": [
    "### Continue  \n",
    "Continue will skip code for an iteration, but will still keep the loop running"
   ]
  },
  {
   "cell_type": "code",
   "execution_count": 2,
   "metadata": {
    "vscode": {
     "languageId": "java"
    }
   },
   "outputs": [],
   "source": [
    "int i = 0; \n",
    "while (i < 10) \n",
    "{\n",
    "    if (i == 5) {\n",
    "        i++; // don't forget this, it creates an error similar to an infinite loop\n",
    "        System.out.println(\"\");\n",
    "        continue;\n",
    "    }\n",
    "    System.out.println(i);\n",
    "    i++;  \n",
    "}"
   ]
  },
  {
   "cell_type": "markdown",
   "metadata": {},
   "source": [
    "# 4.3: Developing Algorithms Using Strings\n",
    "**Learning Objective**: For algorithms in the context of a particular specification that involves <code>String</code> objects:"
   ]
  },
  {
   "cell_type": "markdown",
   "metadata": {},
   "source": [
    "### Methods in Java that help to MANIPULATE STRINGS\n",
    "- String.substring - Retrieves a particular portion of a String\n",
    "- String.equals - Comparees the content of two strings\n",
    "- String.length - Returns the length of a String"
   ]
  },
  {
   "cell_type": "code",
   "execution_count": 26,
   "metadata": {
    "vscode": {
     "languageId": "java"
    }
   },
   "outputs": [
    {
     "name": "stdout",
     "output_type": "stream",
     "text": [
      "Common Prefix: C\n",
      "Common Prefix: Co\n",
      "Common Prefix: Cod\n",
      "Common Prefix: Codi\n",
      "Common Prefix: Codin\n",
      "Common Prefix: Coding\n",
      "Common Prefix: Coding \n",
      "Common Prefix: Coding i\n",
      "Common Prefix: Coding is\n",
      "Common Prefix: Coding is \n",
      "Common Prefix: Coding is c\n",
      "Common Prefix: Coding is co\n"
     ]
    }
   ],
   "source": [
    "public class Compare {\n",
    "    public static void main(String[] args) {\n",
    "        String string1 = \"Coding is cool!\";\n",
    "        String string2 = \"Coding is coding!\";\n",
    "\n",
    "        int minLength = Math.min(string1.length(), string2.length());\n",
    "\n",
    "        for (int i = 0; i < minLength; i++) {\n",
    "            String subString1 = string1.substring(0, i + 1);\n",
    "            String subString2 = string2.substring(0, i + 1);\n",
    "\n",
    "            if (subString1.equals(subString2)) {\n",
    "                System.out.println(\"Common Prefix: \" + subString2);\n",
    "            }\n",
    "        }\n",
    "    }\n",
    "}\n",
    "Compare.main(null)"
   ]
  },
  {
   "cell_type": "markdown",
   "metadata": {},
   "source": [
    "**Where are the 3 methods in the above Java Cell and how do they contribute to the program's functionality?**\n",
    "\n",
    "length-gets the length of the string, helps with determining the number of iterations\n",
    "\n",
    "substring-gets a part of the string-prepares the parts of the string to be printed\n",
    "\n",
    "equals-determines with the substring is equal, is not useful here"
   ]
  },
  {
   "cell_type": "code",
   "execution_count": 1,
   "metadata": {
    "vscode": {
     "languageId": "java"
    }
   },
   "outputs": [
    {
     "name": "stdout",
     "output_type": "stream",
     "text": [
      "The Number of vowels in \"supercalifragilisticexpialidocious\" is 16\n"
     ]
    }
   ],
   "source": [
    "String word = \"supercalifragilisticexpialidocious\";\n",
    "int count = 0;\n",
    "\n",
    "for (int i = 0; i < word.length(); i++) {\n",
    "    char letter = word.charAt(i);\n",
    "    if (letter == 'a' || letter == 'e' || letter == 'i' || letter == 'o' || letter == 'u') {\n",
    "        count++;\n",
    "    }\n",
    "}\n",
    "\n",
    "System.out.println(\"The Number of vowels in \\\"\" + word + \"\\\" is \" + count);\n"
   ]
  },
  {
   "cell_type": "markdown",
   "metadata": {},
   "source": [
    "**What does word.length() do and how do we use it above?**  \n",
    "\n",
    "word.length returns the number of chars in word, the program uses it to loop over every single char in word\n",
    "\n",
    "**What Boolean Operator is used?**"
   ]
  },
  {
   "cell_type": "code",
   "execution_count": 18,
   "metadata": {
    "vscode": {
     "languageId": "java"
    }
   },
   "outputs": [
    {
     "name": "stdout",
     "output_type": "stream",
     "text": [
      "We found the Smaller String!\n"
     ]
    }
   ],
   "source": [
    "public class Main {\n",
    "    public static void main(String[] args) {\n",
    "        String word = \"Scooby Doo\";\n",
    "        String sub = \"Doo\";\n",
    "        boolean found = false;\n",
    "\n",
    "        for (int i = 0; i <= word.length() - sub.length(); i++) {\n",
    "            String portion = word.substring(i, i + sub.length());\n",
    "            if (portion.equals(sub)) {\n",
    "                found = true;\n",
    "            }\n",
    "        }\n",
    "        if (found) {\n",
    "            System.out.println(\"We found the Smaller String!\");\n",
    "        } else {\n",
    "            System.out.println(\"We did not find the Smaller String! \\t Ruh Roh!\");\n",
    "        }\n",
    "    }\n",
    "}\n",
    "Main.main(null)"
   ]
  },
  {
   "cell_type": "markdown",
   "metadata": {},
   "source": [
    "### String concatenation\n",
    "String concatenation is when you want to add to strings together"
   ]
  },
  {
   "cell_type": "code",
   "execution_count": null,
   "metadata": {
    "vscode": {
     "languageId": "java"
    }
   },
   "outputs": [],
   "source": [
    "String original = \"String\";\n",
    "String reversed = \"\";\n",
    "for (int i = 0; i < original.length(); i++)\n",
    "{\n",
    "    String single = original.substring(i,i+1);\n",
    "    reversed = single + reversed;\n",
    "}\n",
    "System.out.println(\"Original String: \" + original);\n",
    "System.out.println(\"Reversed String: \" + reversed);\n"
   ]
  },
  {
   "cell_type": "markdown",
   "metadata": {},
   "source": [
    "# 4.4: Nested Iteration\n",
    "**Learning Objective**: Represent nested iteration processes\n",
    "\n",
    "Essential Knowledge:\n",
    "- Nested iteration is when an iteration statement appears inside the body of another iteration statement\n",
    "- The inner loop must complete all of its iterations before the outer loop can continue. \n",
    "\n",
    "**Before uncommenting the code, guess what the output will look like:**\n",
    "\n",
    "\n",
    "It will print 1 2 for 4 lines"
   ]
  },
  {
   "cell_type": "code",
   "execution_count": 2,
   "metadata": {
    "vscode": {
     "languageId": "java"
    }
   },
   "outputs": [
    {
     "name": "stdout",
     "output_type": "stream",
     "text": [
      "1 2 \n",
      "1 2 \n",
      "1 2 \n",
      "1 2 \n"
     ]
    }
   ],
   "source": [
    "public class NestedLoops{\n",
    "\n",
    "    public static void main(String[] args){\n",
    "\n",
    "        for (int outer = 1; outer < 5; outer++){\n",
    "\n",
    "            for (int inner = 1; inner < 3; inner++){\n",
    "                \n",
    "                System.out.print(inner + \" \");\n",
    "            }\n",
    "\n",
    "            System.out.println();\n",
    "\n",
    "        } \n",
    "\n",
    "    }\n",
    "}\n",
    "\n",
    "NestedLoops.main(null)"
   ]
  },
  {
   "cell_type": "markdown",
   "metadata": {},
   "source": [
    "**What will the output of the code above be if we switch the loop headers (the stuff inside of the for loop)?**\n",
    "\n",
    "It will print 1 four times, then 2 four times on the second line\n",
    "\n",
    "**After making a prediction actually switch the loop headers for yourself. What do you notice about the output compared to the output before the change?**\n",
    "\n",
    "Before the things that were printed changed for each liine"
   ]
  },
  {
   "cell_type": "code",
   "execution_count": 3,
   "metadata": {
    "vscode": {
     "languageId": "java"
    }
   },
   "outputs": [
    {
     "name": "stdout",
     "output_type": "stream",
     "text": [
      "1 1 1 1 \n",
      "2 2 2 2 \n"
     ]
    }
   ],
   "source": [
    "public class NestedLoops{\n",
    "\n",
    "    public static void main(String[] args){\n",
    "\n",
    "        for (int inner = 1; inner < 3; inner++){\n",
    "\n",
    "            for (int outer = 1; outer < 5; outer++){\n",
    "                \n",
    "                System.out.print(inner + \" \");\n",
    "            }\n",
    "\n",
    "            System.out.println();\n",
    "\n",
    "        } \n",
    "\n",
    "    }\n",
    "}\n",
    "\n",
    "NestedLoops.main(null)"
   ]
  },
  {
   "cell_type": "markdown",
   "metadata": {},
   "source": [
    "# 4.5: Informal Code Analysis\n",
    "\n",
    "Essential Knowledge:\n",
    "- A statement exectution count indicates the number of times a statement is executed by the program\n",
    "\n"
   ]
  },
  {
   "cell_type": "code",
   "execution_count": null,
   "metadata": {
    "vscode": {
     "languageId": "java"
    }
   },
   "outputs": [],
   "source": [
    "for (int outer = 0; outer < 3; outer++){\n",
    "    for (int inner = 0; inner < 4; inner++){\n",
    "        // statement #1\n",
    "    }\n",
    "}"
   ]
  },
  {
   "cell_type": "markdown",
   "metadata": {},
   "source": [
    "**In the code above, how many times will the inner loop execute when outer = 0?** 4\n",
    "\n",
    "**In the code above, how many times will the inner loop execute when outer = 1?** 4\n",
    "\n",
    "**In the code above, how many times will the inner loop execute when outer = 2?** 4  \n",
    "\n",
    "**In the code above, how many times will the inner loop execute in total?** 12\n"
   ]
  },
  {
   "cell_type": "code",
   "execution_count": null,
   "metadata": {
    "vscode": {
     "languageId": "java"
    }
   },
   "outputs": [],
   "source": [
    "for (int outer = 5; outer > 0; outer--){\n",
    "    for (int inner = 0; inner < outer; inner++){\n",
    "        // statement #1\n",
    "    }\n",
    "}"
   ]
  },
  {
   "cell_type": "markdown",
   "metadata": {},
   "source": [
    "**In the code above, how many times will the inner loop execute when outer = 5?** 5  \n",
    "\n",
    "**In the code above, how many times will the inner loop execute when outer = 4?** 4  \n",
    "\n",
    "**In the code above, how many times will the inner loop execute when outer = 3?** 3  \n",
    "\n",
    "**In the code above, how many times will the inner loop execute in total?** 15"
   ]
  },
  {
   "cell_type": "code",
   "execution_count": null,
   "metadata": {
    "vscode": {
     "languageId": "java"
    }
   },
   "outputs": [],
   "source": [
    "int k = 0;\n",
    "while (k < 5){\n",
    "    int x = (int)(Math.random()*6) + 1;\n",
    "    while (x != 6){\n",
    "        //statement #1\n",
    "        x = (int)(Math.random()*6) + 1;\n",
    "    }\n",
    "    k++;\n",
    "}"
   ]
  },
  {
   "cell_type": "markdown",
   "metadata": {},
   "source": [
    "**In the code above, how many times will the statement #1 execute?** randomized, but at most 5"
   ]
  },
  {
   "cell_type": "code",
   "execution_count": 4,
   "metadata": {
    "vscode": {
     "languageId": "java"
    }
   },
   "outputs": [
    {
     "name": "stdout",
     "output_type": "stream",
     "text": [
      "05101520253035404550556065707580859095100105110115120125130"
     ]
    }
   ],
   "source": [
    "for (int k = 0; k < 135; k++){\n",
    "    if (k % 5 == 0){ // Statement #1\n",
    "        System.out.print(k); // Statement #2\n",
    "    }\n",
    "}"
   ]
  },
  {
   "cell_type": "markdown",
   "metadata": {},
   "source": [
    "**In the code above, how many times will the statement #1 execute?** 135  \n",
    "\n",
    "**In the code above, how many times will the statement #2 execute?** 27\n",
    "\n",
    "Rewrite the code above to be more effecient based on execution count. \n"
   ]
  },
  {
   "cell_type": "code",
   "execution_count": 5,
   "metadata": {
    "vscode": {
     "languageId": "java"
    }
   },
   "outputs": [
    {
     "name": "stdout",
     "output_type": "stream",
     "text": [
      "05101520253035404550556065707580859095100105110115120125130"
     ]
    }
   ],
   "source": [
    "for (int k = 0; k < 27; k++){\n",
    "        System.out.print(k*5); // Statement #2\n",
    "}"
   ]
  },
  {
   "cell_type": "markdown",
   "metadata": {},
   "source": [
    "# HACKS\n",
    "These hacks will be due on Monday (October 16th) before class"
   ]
  },
  {
   "cell_type": "markdown",
   "metadata": {},
   "source": [
    "### Hacks\n",
    "- Finish the popcorn hacks (0.2)\n",
    "- Rewrite the for loop (0.25)\n",
    "- Complete the Ceaser Cipher Code (0.45)\n"
   ]
  },
  {
   "cell_type": "code",
   "execution_count": 8,
   "metadata": {
    "vscode": {
     "languageId": "java"
    }
   },
   "outputs": [
    {
     "name": "stdout",
     "output_type": "stream",
     "text": [
      "0\n",
      "4\n",
      "8\n",
      "12\n",
      "16\n",
      "20\n",
      "24\n",
      "28\n",
      "32\n",
      "36\n"
     ]
    }
   ],
   "source": [
    "for (int k = 0; k < 40; k++){\n",
    "    if (k % 4 == 0){\n",
    "        System.out.println(k); \n",
    "    }\n",
    "}"
   ]
  },
  {
   "cell_type": "markdown",
   "metadata": {},
   "source": [
    "Rewrite the code above 3 different times\n",
    "- Your code should be more efficient based execution count\n",
    "- Your code should use 3 different types of loops that you learned above (Hint: You may need to use a list)"
   ]
  },
  {
   "cell_type": "code",
   "execution_count": 9,
   "metadata": {
    "vscode": {
     "languageId": "java"
    }
   },
   "outputs": [
    {
     "name": "stdout",
     "output_type": "stream",
     "text": [
      "0\n",
      "4\n",
      "8\n",
      "12\n",
      "16\n",
      "20\n",
      "24\n",
      "28\n",
      "32\n",
      "36\n"
     ]
    }
   ],
   "source": [
    "for (int k = 0; k < 10; k++) { //more efficiently\n",
    "    System.out.println(k*4); \n",
    "}"
   ]
  },
  {
   "cell_type": "code",
   "execution_count": 10,
   "metadata": {
    "vscode": {
     "languageId": "java"
    }
   },
   "outputs": [
    {
     "name": "stdout",
     "output_type": "stream",
     "text": [
      "0\n",
      "4\n",
      "8\n",
      "12\n",
      "16\n",
      "20\n",
      "24\n",
      "28\n",
      "32\n",
      "36\n"
     ]
    }
   ],
   "source": [
    "int k = 0;\n",
    "while (k < 10) { //using a while loop\n",
    "    System.out.println(k*4);\n",
    "    k++; \n",
    "}"
   ]
  },
  {
   "cell_type": "code",
   "execution_count": 12,
   "metadata": {
    "vscode": {
     "languageId": "java"
    }
   },
   "outputs": [
    {
     "name": "stdout",
     "output_type": "stream",
     "text": [
      "0\n",
      "4\n",
      "8\n",
      "12\n",
      "16\n",
      "20\n",
      "24\n",
      "28\n",
      "32\n",
      "36\n",
      "40\n"
     ]
    }
   ],
   "source": [
    "int[] list={0,1,2,3,4,5,6,7,8,9,10};\n",
    "for (int k:list) { // using an enhanced for loop\n",
    "    System.out.println(k*4); \n",
    "}"
   ]
  },
  {
   "cell_type": "code",
   "execution_count": 14,
   "metadata": {
    "vscode": {
     "languageId": "java"
    }
   },
   "outputs": [
    {
     "name": "stdout",
     "output_type": "stream",
     "text": [
      "0\n",
      "4\n",
      "8\n",
      "12\n",
      "16\n",
      "20\n",
      "24\n",
      "28\n",
      "32\n",
      "36\n",
      "40\n"
     ]
    }
   ],
   "source": [
    "int k = 0;\n",
    "do { // using a do while loop\n",
    "    System.out.println(k*4);\n",
    "    k++; \n",
    "} while (k < 11)"
   ]
  },
  {
   "cell_type": "markdown",
   "metadata": {},
   "source": [
    "#### Ceaser Cipher Hacks\n",
    "Try to write a cipher program that shifts each letter in a message 3 letters forward. Use any of the methods you learned today. Use it to decode the 3 messages we've given you!"
   ]
  },
  {
   "cell_type": "code",
   "execution_count": 33,
   "metadata": {
    "vscode": {
     "languageId": "java"
    }
   },
   "outputs": [
    {
     "name": "stdout",
     "output_type": "stream",
     "text": [
      "Nice job!\n",
      "code code code\n",
      "supercalifragilisticexpialidocious\n",
      "ZAVW WVZAPUN HIVBA HTVUN BZ! P'T APYLK VM ZLLPUN PA! TF MYPLUKZ VU APRAVR ZLUK TL TLTLZ, VU KPZJVYK PA'Z HSS TLTLZ! P dhz pu h zlycly, ypnoa? huk HSS VM AOL JOHUULSZ dlyl qbza #htvun-bz-zabmm. P-P zovdlk tf johtwpvu a-zopya av tf npysmypluk huk a-aol svnv P mspwwlk pa huk P zhpk \"olf ihil, dolu aol svnv pz zbz OHOH KPUN KPUN KPUN KPUN KPUN KPUN KPUN KP KP KPUN\" P svvrlk ha h ayhzojhu huk zhpk \"AOHA'Z H IPA ZBZZF\" P svvrlk ha aol mpyl hshyt P aopur vm hu hzayvuhbaz olstla huk P nv \"MPYL HSHYT? TVYL SPRL ZBZ HSHYT\" HHHHHHHHHHHHHHONLZMN\n",
      "ABWX XWABQVO IJWCB IUWVO CA! Q'U BQZML WN AMMQVO QB! UG NZQMVLA WV BQSBWS AMVL UM UMUMA, WV LQAKWZL QB'A ITT UMUMA! Q eia qv i amzdmz, zqopb? ivl ITT WN BPM KPIVVMTA emzm rcab #iuwvo-ca-abcnn. Q-Q apweml ug kpiuxqwv b-apqzb bw ug oqztnzqmvl ivl b-bpm twow Q ntqxxml qb ivl Q aiql \"pmg jijm, epmv bpm twow qa aca PIPI LQVO LQVO LQVO LQVO LQVO LQVO LQVO LQ LQ LQVO\" Q twwsml ib i bziapkiv ivl aiql \"BPIB'A I JQB ACAAG\" Q twwsml ib bpm nqzm itizu Q bpqvs wn iv iabzwvicba pmtumb ivl Q ow \"NQZM ITIZU? UWZM TQSM ACA ITIZU\" IIIIIIIIIIIIIIPOMANO\n",
      "BCXY YXBCRWP JKXDC JVXWP DB! R'V CRANM XO BNNRWP RC! VH OARNWMB XW CRTCXT BNWM VN VNVNB, XW MRBLXAM RC'B JUU VNVNB! R fjb rw j bnaena, arpqc? jwm JUU XO CQN LQJWWNUB fnan sdbc #jvxwp-db-bcdoo. R-R bqxfnm vh lqjvyrxw c-bqrac cx vh prauoarnwm jwm c-cqn uxpx R ouryynm rc jwm R bjrm \"qnh kjkn, fqnw cqn uxpx rb bdb QJQJ MRWP MRWP MRWP MRWP MRWP MRWP MRWP MR MR MRWP\" R uxxtnm jc j cajbqljw jwm bjrm \"CQJC'B J KRC BDBBH\" R uxxtnm jc cqn oran jujav R cqrwt xo jw jbcaxwjdcb qnuvnc jwm R px \"ORAN JUJAV? VXAN URTN BDB JUJAV\" JJJJJJJJJJJJJJQPNBOP\n",
      "CDYZ ZYCDSXQ KLYED KWYXQ EC! S'W DSBON YP COOSXQ SD! WI PBSOXNC YX DSUDYU COXN WO WOWOC, YX NSCMYBN SD'C KVV WOWOC! S gkc sx k cobfob, bsqrd? kxn KVV YP DRO MRKXXOVC gobo tecd #kwyxq-ec-cdepp. S-S crygon wi mrkwzsyx d-crsbd dy wi qsbvpbsoxn kxn d-dro vyqy S pvszzon sd kxn S cksn \"roi lklo, grox dro vyqy sc cec RKRK NSXQ NSXQ NSXQ NSXQ NSXQ NSXQ NSXQ NS NS NSXQ\" S vyyuon kd k dbkcrmkx kxn cksn \"DRKD'C K LSD CECCI\" S vyyuon kd dro psbo kvkbw S drsxu yp kx kcdbyxkedc rovwod kxn S qy \"PSBO KVKBW? WYBO VSUO CEC KVKBW\" KKKKKKKKKKKKKKRQOCPQ\n",
      "DEZA AZDETYR LMZFE LXZYR FD! T'X ETCPO ZQ DPPTYR TE! XJ QCTPYOD ZY ETVEZV DPYO XP XPXPD, ZY OTDNZCO TE'D LWW XPXPD! T hld ty l dpcgpc, ctrse? lyo LWW ZQ ESP NSLYYPWD hpcp ufde #lxzyr-fd-defqq. T-T dszhpo xj nslxatzy e-dstce ez xj rtcwqctpyo lyo e-esp wzrz T qwtaapo te lyo T dlto \"spj mlmp, hspy esp wzrz td dfd SLSL OTYR OTYR OTYR OTYR OTYR OTYR OTYR OT OT OTYR\" T wzzvpo le l ecldsnly lyo dlto \"ESLE'D L MTE DFDDJ\" T wzzvpo le esp qtcp lwlcx T estyv zq ly ldeczylfed spwxpe lyo T rz \"QTCP LWLCX? XZCP WTVP DFD LWLCX\" LLLLLLLLLLLLLLSRPDQR\n",
      "EFAB BAEFUZS MNAGF MYAZS GE! U'Y FUDQP AR EQQUZS UF! YK RDUQZPE AZ FUWFAW EQZP YQ YQYQE, AZ PUEOADP UF'E MXX YQYQE! U ime uz m eqdhqd, dustf? mzp MXX AR FTQ OTMZZQXE iqdq vgef #myazs-ge-efgrr. U-U etaiqp yk otmybuaz f-etudf fa yk sudxrduqzp mzp f-ftq xasa U rxubbqp uf mzp U emup \"tqk nmnq, itqz ftq xasa ue ege TMTM PUZS PUZS PUZS PUZS PUZS PUZS PUZS PU PU PUZS\" U xaawqp mf m fdmetomz mzp emup \"FTMF'E M NUF EGEEK\" U xaawqp mf ftq rudq mxmdy U ftuzw ar mz mefdazmgfe tqxyqf mzp U sa \"RUDQ MXMDY? YADQ XUWQ EGE MXMDY\" MMMMMMMMMMMMMMTSQERS\n",
      "FGBC CBFGVAT NOBHG NZBAT HF! V'Z GVERQ BS FRRVAT VG! ZL SEVRAQF BA GVXGBX FRAQ ZR ZRZRF, BA QVFPBEQ VG'F NYY ZRZRF! V jnf va n freire, evtug? naq NYY BS GUR PUNAARYF jrer whfg #nzbat-hf-fghss. V-V fubjrq zl punzcvba g-fuveg gb zl tveysevraq naq g-gur ybtb V syvccrq vg naq V fnvq \"url onor, jura gur ybtb vf fhf UNUN QVAT QVAT QVAT QVAT QVAT QVAT QVAT QV QV QVAT\" V ybbxrq ng n genfupna naq fnvq \"GUNG'F N OVG FHFFL\" V ybbxrq ng gur sver nynez V guvax bs na nfgebanhgf uryzrg naq V tb \"SVER NYNEZ? ZBER YVXR FHF NYNEZ\" NNNNNNNNNNNNNNUTRFST\n",
      "GHCD DCGHWBU OPCIH OACBU IG! W'A HWFSR CT GSSWBU WH! AM TFWSBRG CB HWYHCY GSBR AS ASASG, CB RWGQCFR WH'G OZZ ASASG! W kog wb o gsfjsf, fwuvh? obr OZZ CT HVS QVOBBSZG ksfs xigh #oacbu-ig-ghitt. W-W gvcksr am qvoadwcb h-gvwfh hc am uwfztfwsbr obr h-hvs zcuc W tzwddsr wh obr W gowr \"vsm pops, kvsb hvs zcuc wg gig VOVO RWBU RWBU RWBU RWBU RWBU RWBU RWBU RW RW RWBU\" W zccysr oh o hfogvqob obr gowr \"HVOH'G O PWH GIGGM\" W zccysr oh hvs twfs ozofa W hvwby ct ob oghfcboihg vszash obr W uc \"TWFS OZOFA? ACFS ZWYS GIG OZOFA\" OOOOOOOOOOOOOOVUSGTU\n",
      "HIDE EDHIXCV PQDJI PBDCV JH! X'B IXGTS DU HTTXCV XI! BN UGXTCSH DC IXZIDZ HTCS BT BTBTH, DC SXHRDGS XI'H PAA BTBTH! X lph xc p htgktg, gxvwi? pcs PAA DU IWT RWPCCTAH ltgt yjhi #pbdcv-jh-hijuu. X-X hwdlts bn rwpbexdc i-hwxgi id bn vxgaugxtcs pcs i-iwt advd X uaxeets xi pcs X hpxs \"wtn qpqt, lwtc iwt advd xh hjh WPWP SXCV SXCV SXCV SXCV SXCV SXCV SXCV SX SX SXCV\" X addzts pi p igphwrpc pcs hpxs \"IWPI'H P QXI HJHHN\" X addzts pi iwt uxgt papgb X iwxcz du pc phigdcpjih wtabti pcs X vd \"UXGT PAPGB? BDGT AXZT HJH PAPGB\" PPPPPPPPPPPPPPWVTHUV\n",
      "IJEF FEIJYDW QREKJ QCEDW KI! Y'C JYHUT EV IUUYDW YJ! CO VHYUDTI ED JYAJEA IUDT CU CUCUI, ED TYISEHT YJ'I QBB CUCUI! Y mqi yd q iuhluh, hywxj? qdt QBB EV JXU SXQDDUBI muhu zkij #qcedw-ki-ijkvv. Y-Y ixemut co sxqcfyed j-ixyhj je co wyhbvhyudt qdt j-jxu bewe Y vbyffut yj qdt Y iqyt \"xuo rqru, mxud jxu bewe yi iki XQXQ TYDW TYDW TYDW TYDW TYDW TYDW TYDW TY TY TYDW\" Y beeaut qj q jhqixsqd qdt iqyt \"JXQJ'I Q RYJ IKIIO\" Y beeaut qj jxu vyhu qbqhc Y jxyda ev qd qijhedqkji xubcuj qdt Y we \"VYHU QBQHC? CEHU BYAU IKI QBQHC\" QQQQQQQQQQQQQQXWUIVW\n",
      "JKFG GFJKZEX RSFLK RDFEX LJ! Z'D KZIVU FW JVVZEX ZK! DP WIZVEUJ FE KZBKFB JVEU DV DVDVJ, FE UZJTFIU ZK'J RCC DVDVJ! Z nrj ze r jvimvi, izxyk? reu RCC FW KYV TYREEVCJ nviv aljk #rdfex-lj-jklww. Z-Z jyfnvu dp tyrdgzfe k-jyzik kf dp xzicwizveu reu k-kyv cfxf Z wczggvu zk reu Z jrzu \"yvp srsv, nyve kyv cfxf zj jlj YRYR UZEX UZEX UZEX UZEX UZEX UZEX UZEX UZ UZ UZEX\" Z cffbvu rk r kirjytre reu jrzu \"KYRK'J R SZK JLJJP\" Z cffbvu rk kyv wziv rcrid Z kyzeb fw re rjkiferlkj yvcdvk reu Z xf \"WZIV RCRID? DFIV CZBV JLJ RCRID\" RRRRRRRRRRRRRRYXVJWX\n",
      "KLGH HGKLAFY STGML SEGFY MK! A'E LAJWV GX KWWAFY AL! EQ XJAWFVK GF LACLGC KWFV EW EWEWK, GF VAKUGJV AL'K SDD EWEWK! A osk af s kwjnwj, jayzl? sfv SDD GX LZW UZSFFWDK owjw bmkl #segfy-mk-klmxx. A-A kzgowv eq uzsehagf l-kzajl lg eq yajdxjawfv sfv l-lzw dgyg A xdahhwv al sfv A ksav \"zwq tstw, ozwf lzw dgyg ak kmk ZSZS VAFY VAFY VAFY VAFY VAFY VAFY VAFY VA VA VAFY\" A dggcwv sl s ljskzusf sfv ksav \"LZSL'K S TAL KMKKQ\" A dggcwv sl lzw xajw sdsje A lzafc gx sf skljgfsmlk zwdewl sfv A yg \"XAJW SDSJE? EGJW DACW KMK SDSJE\" SSSSSSSSSSSSSSZYWKXY\n",
      "LMHI IHLMBGZ TUHNM TFHGZ NL! B'F MBKXW HY LXXBGZ BM! FR YKBXGWL HG MBDMHD LXGW FX FXFXL, HG WBLVHKW BM'L TEE FXFXL! B ptl bg t lxkoxk, kbzam? tgw TEE HY MAX VATGGXEL pxkx cnlm #tfhgz-nl-lmnyy. B-B lahpxw fr vatfibhg m-labkm mh fr zbkeykbxgw tgw m-max ehzh B yebiixw bm tgw B ltbw \"axr utux, paxg max ehzh bl lnl ATAT WBGZ WBGZ WBGZ WBGZ WBGZ WBGZ WBGZ WB WB WBGZ\" B ehhdxw tm t mktlavtg tgw ltbw \"MATM'L T UBM LNLLR\" B ehhdxw tm max ybkx tetkf B mabgd hy tg tlmkhgtnml axefxm tgw B zh \"YBKX TETKF? FHKX EBDX LNL TETKF\" TTTTTTTTTTTTTTAZXLYZ\n",
      "MNIJ JIMNCHA UVION UGIHA OM! C'G NCLYX IZ MYYCHA CN! GS ZLCYHXM IH NCENIE MYHX GY GYGYM, IH XCMWILX CN'M UFF GYGYM! C qum ch u mylpyl, lcabn? uhx UFF IZ NBY WBUHHYFM qyly domn #ugiha-om-mnozz. C-C mbiqyx gs wbugjcih n-mbcln ni gs aclfzlcyhx uhx n-nby fiai C zfcjjyx cn uhx C mucx \"bys vuvy, qbyh nby fiai cm mom BUBU XCHA XCHA XCHA XCHA XCHA XCHA XCHA XC XC XCHA\" C fiieyx un u nlumbwuh uhx mucx \"NBUN'M U VCN MOMMS\" C fiieyx un nby zcly ufulg C nbche iz uh umnlihuonm byfgyn uhx C ai \"ZCLY UFULG? GILY FCEY MOM UFULG\" UUUUUUUUUUUUUUBAYMZA\n",
      "NOJK KJNODIB VWJPO VHJIB PN! D'H ODMZY JA NZZDIB DO! HT AMDZIYN JI ODFOJF NZIY HZ HZHZN, JI YDNXJMY DO'N VGG HZHZN! D rvn di v nzmqzm, mdbco? viy VGG JA OCZ XCVIIZGN rzmz epno #vhjib-pn-nopaa. D-D ncjrzy ht xcvhkdji o-ncdmo oj ht bdmgamdziy viy o-ocz gjbj D agdkkzy do viy D nvdy \"czt wvwz, rczi ocz gjbj dn npn CVCV YDIB YDIB YDIB YDIB YDIB YDIB YDIB YD YD YDIB\" D gjjfzy vo v omvncxvi viy nvdy \"OCVO'N V WDO NPNNT\" D gjjfzy vo ocz admz vgvmh D ocdif ja vi vnomjivpon czghzo viy D bj \"ADMZ VGVMH? HJMZ GDFZ NPN VGVMH\" VVVVVVVVVVVVVVCBZNAB\n",
      "OPKL LKOPEJC WXKQP WIKJC QO! E'I PENAZ KB OAAEJC EP! IU BNEAJZO KJ PEGPKG OAJZ IA IAIAO, KJ ZEOYKNZ EP'O WHH IAIAO! E swo ej w oanran, necdp? wjz WHH KB PDA YDWJJAHO sana fqop #wikjc-qo-opqbb. E-E odksaz iu ydwilekj p-odenp pk iu cenhbneajz wjz p-pda hkck E bhellaz ep wjz E owez \"dau xwxa, sdaj pda hkck eo oqo DWDW ZEJC ZEJC ZEJC ZEJC ZEJC ZEJC ZEJC ZE ZE ZEJC\" E hkkgaz wp w pnwodywj wjz owez \"PDWP'O W XEP OQOOU\" E hkkgaz wp pda bena whwni E pdejg kb wj wopnkjwqpo dahiap wjz E ck \"BENA WHWNI? IKNA HEGA OQO WHWNI\" WWWWWWWWWWWWWWDCAOBC\n",
      "PQLM MLPQFKD XYLRQ XJLKD RP! F'J QFOBA LC PBBFKD FQ! JV COFBKAP LK QFHQLH PBKA JB JBJBP, LK AFPZLOA FQ'P XII JBJBP! F txp fk x pbosbo, ofdeq? xka XII LC QEB ZEXKKBIP tbob grpq #xjlkd-rp-pqrcc. F-F peltba jv zexjmflk q-pefoq ql jv dfoicofbka xka q-qeb ildl F cifmmba fq xka F pxfa \"ebv yxyb, tebk qeb ildl fp prp EXEX AFKD AFKD AFKD AFKD AFKD AFKD AFKD AF AF AFKD\" F illhba xq x qoxpezxk xka pxfa \"QEXQ'P X YFQ PRPPV\" F illhba xq qeb cfob xixoj F qefkh lc xk xpqolkxrqp ebijbq xka F dl \"CFOB XIXOJ? JLOB IFHB PRP XIXOJ\" XXXXXXXXXXXXXXEDBPCD\n",
      "QRMN NMQRGLE YZMSR YKMLE SQ! G'K RGPCB MD QCCGLE GR! KW DPGCLBQ ML RGIRMI QCLB KC KCKCQ, ML BGQAMPB GR'Q YJJ KCKCQ! G uyq gl y qcptcp, pgefr? ylb YJJ MD RFC AFYLLCJQ ucpc hsqr #ykmle-sq-qrsdd. G-G qfmucb kw afykngml r-qfgpr rm kw egpjdpgclb ylb r-rfc jmem G djgnncb gr ylb G qygb \"fcw zyzc, ufcl rfc jmem gq qsq FYFY BGLE BGLE BGLE BGLE BGLE BGLE BGLE BG BG BGLE\" G jmmicb yr y rpyqfayl ylb qygb \"RFYR'Q Y ZGR QSQQW\" G jmmicb yr rfc dgpc yjypk G rfgli md yl yqrpmlysrq fcjkcr ylb G em \"DGPC YJYPK? KMPC JGIC QSQ YJYPK\" YYYYYYYYYYYYYYFECQDE\n",
      "RSNO ONRSHMF ZANTS ZLNMF TR! H'L SHQDC NE RDDHMF HS! LX EQHDMCR NM SHJSNJ RDMC LD LDLDR, NM CHRBNQC HS'R ZKK LDLDR! H vzr hm z rdqudq, qhfgs? zmc ZKK NE SGD BGZMMDKR vdqd itrs #zlnmf-tr-rstee. H-H rgnvdc lx bgzlohnm s-rghqs sn lx fhqkeqhdmc zmc s-sgd knfn H ekhoodc hs zmc H rzhc \"gdx azad, vgdm sgd knfn hr rtr GZGZ CHMF CHMF CHMF CHMF CHMF CHMF CHMF CH CH CHMF\" H knnjdc zs z sqzrgbzm zmc rzhc \"SGZS'R Z AHS RTRRX\" H knnjdc zs sgd ehqd zkzql H sghmj ne zm zrsqnmztsr gdklds zmc H fn \"EHQD ZKZQL? LNQD KHJD RTR ZKZQL\" ZZZZZZZZZZZZZZGFDREF\n",
      "STOP POSTING ABOUT AMONG US! I'M TIRED OF SEEING IT! MY FRIENDS ON TIKTOK SEND ME MEMES, ON DISCORD IT'S ALL MEMES! I was in a server, right? and ALL OF THE CHANNELS were just #among-us-stuff. I-I showed my champion t-shirt to my girlfriend and t-the logo I flipped it and I said \"hey babe, when the logo is sus HAHA DING DING DING DING DING DING DING DI DI DING\" I looked at a trashcan and said \"THAT'S A BIT SUSSY\" I looked at the fire alarm I think of an astronauts helmet and I go \"FIRE ALARM? MORE LIKE SUS ALARM\" AAAAAAAAAAAAAAHGESFG\n",
      "TUPQ QPTUJOH BCPVU BNPOH VT! J'N UJSFE PG TFFJOH JU! NZ GSJFOET PO UJLUPL TFOE NF NFNFT, PO EJTDPSE JU'T BMM NFNFT! J xbt jo b tfswfs, sjhiu? boe BMM PG UIF DIBOOFMT xfsf kvtu #bnpoh-vt-tuvgg. J-J tipxfe nz dibnqjpo u-tijsu up nz hjsmgsjfoe boe u-uif mphp J gmjqqfe ju boe J tbje \"ifz cbcf, xifo uif mphp jt tvt IBIB EJOH EJOH EJOH EJOH EJOH EJOH EJOH EJ EJ EJOH\" J mpplfe bu b usbtidbo boe tbje \"UIBU'T B CJU TVTTZ\" J mpplfe bu uif gjsf bmbsn J uijol pg bo btuspobvut ifmnfu boe J hp \"GJSF BMBSN? NPSF MJLF TVT BMBSN\" BBBBBBBBBBBBBBIHFTGH\n",
      "UVQR RQUVKPI CDQWV COQPI WU! K'O VKTGF QH UGGKPI KV! OA HTKGPFU QP VKMVQM UGPF OG OGOGU, QP FKUEQTF KV'U CNN OGOGU! K ycu kp c ugtxgt, tkijv? cpf CNN QH VJG EJCPPGNU ygtg lwuv #coqpi-wu-uvwhh. K-K ujqygf oa ejcorkqp v-ujktv vq oa iktnhtkgpf cpf v-vjg nqiq K hnkrrgf kv cpf K uckf \"jga dcdg, yjgp vjg nqiq ku uwu JCJC FKPI FKPI FKPI FKPI FKPI FKPI FKPI FK FK FKPI\" K nqqmgf cv c vtcujecp cpf uckf \"VJCV'U C DKV UWUUA\" K nqqmgf cv vjg hktg cncto K vjkpm qh cp cuvtqpcwvu jgnogv cpf K iq \"HKTG CNCTO? OQTG NKMG UWU CNCTO\" CCCCCCCCCCCCCCJIGUHI\n",
      "VWRS SRVWLQJ DERXW DPRQJ XV! L'P WLUHG RI VHHLQJ LW! PB IULHQGV RQ WLNWRN VHQG PH PHPHV, RQ GLVFRUG LW'V DOO PHPHV! L zdv lq d vhuyhu, uljkw? dqg DOO RI WKH FKDQQHOV zhuh mxvw #dprqj-xv-vwxii. L-L vkrzhg pb fkdpslrq w-vkluw wr pb jluoiulhqg dqg w-wkh orjr L iolsshg lw dqg L vdlg \"khb edeh, zkhq wkh orjr lv vxv KDKD GLQJ GLQJ GLQJ GLQJ GLQJ GLQJ GLQJ GL GL GLQJ\" L orrnhg dw d wudvkfdq dqg vdlg \"WKDW'V D ELW VXVVB\" L orrnhg dw wkh iluh dodup L wklqn ri dq dvwurqdxwv khophw dqg L jr \"ILUH DODUP? PRUH OLNH VXV DODUP\" DDDDDDDDDDDDDDKJHVIJ\n",
      "WXST TSWXMRK EFSYX EQSRK YW! M'Q XMVIH SJ WIIMRK MX! QC JVMIRHW SR XMOXSO WIRH QI QIQIW, SR HMWGSVH MX'W EPP QIQIW! M aew mr e wivziv, vmklx? erh EPP SJ XLI GLERRIPW aivi nywx #eqsrk-yw-wxyjj. M-M wlsaih qc gleqtmsr x-wlmvx xs qc kmvpjvmirh erh x-xli psks M jpmttih mx erh M wemh \"lic fefi, alir xli psks mw wyw LELE HMRK HMRK HMRK HMRK HMRK HMRK HMRK HM HM HMRK\" M pssoih ex e xvewlger erh wemh \"XLEX'W E FMX WYWWC\" M pssoih ex xli jmvi epevq M xlmro sj er ewxvsreyxw lipqix erh M ks \"JMVI EPEVQ? QSVI PMOI WYW EPEVQ\" EEEEEEEEEEEEEELKIWJK\n",
      "XYTU UTXYNSL FGTZY FRTSL ZX! N'R YNWJI TK XJJNSL NY! RD KWNJSIX TS YNPYTP XJSI RJ RJRJX, TS INXHTWI NY'X FQQ RJRJX! N bfx ns f xjwajw, wnlmy? fsi FQQ TK YMJ HMFSSJQX bjwj ozxy #frtsl-zx-xyzkk. N-N xmtbji rd hmfrunts y-xmnwy yt rd lnwqkwnjsi fsi y-ymj qtlt N kqnuuji ny fsi N xfni \"mjd gfgj, bmjs ymj qtlt nx xzx MFMF INSL INSL INSL INSL INSL INSL INSL IN IN INSL\" N qttpji fy f ywfxmhfs fsi xfni \"YMFY'X F GNY XZXXD\" N qttpji fy ymj knwj fqfwr N ymnsp tk fs fxywtsfzyx mjqrjy fsi N lt \"KNWJ FQFWR? RTWJ QNPJ XZX FQFWR\" FFFFFFFFFFFFFFMLJXKL\n",
      "YZUV VUYZOTM GHUAZ GSUTM AY! O'S ZOXKJ UL YKKOTM OZ! SE LXOKTJY UT ZOQZUQ YKTJ SK SKSKY, UT JOYIUXJ OZ'Y GRR SKSKY! O cgy ot g ykxbkx, xomnz? gtj GRR UL ZNK INGTTKRY ckxk payz #gsutm-ay-yzall. O-O ynuckj se ingsvout z-ynoxz zu se moxrlxoktj gtj z-znk rumu O lrovvkj oz gtj O ygoj \"nke hghk, cnkt znk rumu oy yay NGNG JOTM JOTM JOTM JOTM JOTM JOTM JOTM JO JO JOTM\" O ruuqkj gz g zxgynigt gtj ygoj \"ZNGZ'Y G HOZ YAYYE\" O ruuqkj gz znk loxk grgxs O znotq ul gt gyzxutgazy nkrskz gtj O mu \"LOXK GRGXS? SUXK ROQK YAY GRGXS\" GGGGGGGGGGGGGGNMKYLM\n"
     ]
    }
   ],
   "source": [
    "public class CaesarCipher {\n",
    "\n",
    "    public static String caesarEncoder(String message, int shift) { // a function that can shift a String any number of times, in this case shift =3, but can be so much more\n",
    "        String code = \"\"; // foundation for building the string\n",
    "        for (int i=0; i<message.length(); i++){ // while loop to loop over every char\n",
    "            char c = message.charAt(i); // gets the char at index i\n",
    "            if ('a'<=c && c<='z') { // checks if c is a letter (i didn't see the given list)\n",
    "                int ogPos = c - 'a'; // manipulating ASCII code of letters to shift the letters, first check the offset of the original char to a (its position within the alphabet)\n",
    "                int newPos = (ogPos + shift) % 26; // checking the new position after the shift\n",
    "                char newC = (char) ('a' + newPos); // getting the new char after the shift\n",
    "                code += newC; // add the new char to the string\n",
    "            } else if ('A'<=c && c<='Z'){\n",
    "                int ogPos = c - 'A'; // The same thing except with capital letters\n",
    "                int newPos = (ogPos + shift) % 26;\n",
    "                char newC = (char) ('A' + newPos);\n",
    "                code += newC; // add the new char to the string\n",
    "            } else { // if the char is not a letter\n",
    "                code += c; // then it just adds the original char to the string\n",
    "            }\n",
    "        }\n",
    "        return code; // return statement\n",
    "    }\n",
    "\n",
    "    public static void caesarEncoderAllShifts(String message) { // a function that can shift a message for all 26 shifts, getting all the possible original message, the human can then select the correct one\n",
    "        for (int i=0; i<26; i++){ // while loop to loop over every shift\n",
    "            System.out.println(caesarEncoder(message,i));// prints a possible message\n",
    "        }\n",
    "    }\n",
    "\n",
    "\n",
    "    public static void main(String[] args) {\n",
    "\n",
    "        String[] letters = {\"a\", \"b\", \"c\", \"d\", \"e\", \"f\", \"g\", \"h\", \"i\", \"j\", \"k\", \"l\", \"m\", \"n\", \"o\", \"p\", \"q\", \"r\", \"s\", \"t\", \"u\", \"v\", \"w\", \"x\", \"y\", \"z\"};\n",
    "        String message1 = \"Kfzb gly!\";\n",
    "        String message2 = \"zlab zlab zlab\";\n",
    "        String message3 = \"prmbozxifcoxdfifpqfzbumfxifalzflrp\";\n",
    "        System.out.println(caesarEncoder(message1,3));\n",
    "        System.out.println(caesarEncoder(message2,3));\n",
    "        System.out.println(caesarEncoder(message3,3));\n",
    "        \n",
    "        // the following string is encoded with a certain shift, which I will proceed to use the caesarEncoderAllShifts to print out all the possible shifts...you'll know what it is when you see it\n",
    "        String message4 = \"ZAVW WVZAPUN HIVBA HTVUN BZ! P'T APYLK VM ZLLPUN PA! TF MYPLUKZ VU APRAVR ZLUK TL TLTLZ, VU KPZJVYK PA'Z HSS TLTLZ! P dhz pu h zlycly, ypnoa? huk HSS VM AOL JOHUULSZ dlyl qbza #htvun-bz-zabmm. P-P zovdlk tf johtwpvu a-zopya av tf npysmypluk huk a-aol svnv P mspwwlk pa huk P zhpk \\\"olf ihil, dolu aol svnv pz zbz OHOH KPUN KPUN KPUN KPUN KPUN KPUN KPUN KP KP KPUN\\\" P svvrlk ha h ayhzojhu huk zhpk \\\"AOHA'Z H IPA ZBZZF\\\" P svvrlk ha aol mpyl hshyt P aopur vm hu hzayvuhbaz olstla huk P nv \\\"MPYL HSHYT? TVYL SPRL ZBZ HSHYT\\\" HHHHHHHHHHHHHHONLZMN\";\n",
    "        caesarEncoderAllShifts(message4);\n",
    "    }\n",
    "}\n",
    "\n",
    "CaesarCipher.main(null);"
   ]
  }
 ],
 "metadata": {
  "kernelspec": {
   "display_name": "Java",
   "language": "java",
   "name": "java"
  },
  "language_info": {
   "codemirror_mode": "java",
   "file_extension": ".jshell",
   "mimetype": "text/x-java-source",
   "name": "Java",
   "pygments_lexer": "java",
   "version": "11.0.20+8-post-Ubuntu-1ubuntu120.04"
  }
 },
 "nbformat": 4,
 "nbformat_minor": 2
}
